{
 "cells": [
  {
   "cell_type": "markdown",
   "id": "0338d017",
   "metadata": {},
   "source": [
    "# Importing libraries"
   ]
  },
  {
   "cell_type": "code",
   "execution_count": 87,
   "id": "17560046",
   "metadata": {},
   "outputs": [],
   "source": [
    "import pandas as pd \n",
    "import statsmodels.api as sm\n",
    "import numpy as np\n",
    "from sklearn.linear_model import LogisticRegression\n",
    "import statsmodels.api\n",
    "from sklearn.metrics import accuracy_score,roc_auc_score,roc_curve,recall_score,precision_score\n",
    "from sklearn import metrics\n",
    "from sklearn.utils.validation import column_or_1d\n",
    "from sklearn.model_selection import train_test_split,cross_val_score\n",
    "from sklearn.metrics import confusion_matrix\n",
    "from matplotlib import pyplot as plt"
   ]
  },
  {
   "cell_type": "code",
   "execution_count": 47,
   "id": "6c0a9398",
   "metadata": {},
   "outputs": [],
   "source": [
    "import os \n",
    "os.chdir('D:\\\\CV Nagwa\\\\Data Analysis\\\\CodeClause internship')"
   ]
  },
  {
   "cell_type": "markdown",
   "id": "02bc58db",
   "metadata": {},
   "source": [
    "# Data Preprocessing"
   ]
  },
  {
   "cell_type": "code",
   "execution_count": 3,
   "id": "f660c494",
   "metadata": {},
   "outputs": [],
   "source": [
    "df=pd.read_excel('02 Churn-Dataset.xlsx')"
   ]
  },
  {
   "cell_type": "code",
   "execution_count": 110,
   "id": "152878d1",
   "metadata": {},
   "outputs": [],
   "source": [
    "pd.options.display.max_columns=100"
   ]
  },
  {
   "cell_type": "code",
   "execution_count": 111,
   "id": "e41ec5e4",
   "metadata": {},
   "outputs": [
    {
     "data": {
      "text/html": [
       "<div>\n",
       "<style scoped>\n",
       "    .dataframe tbody tr th:only-of-type {\n",
       "        vertical-align: middle;\n",
       "    }\n",
       "\n",
       "    .dataframe tbody tr th {\n",
       "        vertical-align: top;\n",
       "    }\n",
       "\n",
       "    .dataframe thead th {\n",
       "        text-align: right;\n",
       "    }\n",
       "</style>\n",
       "<table border=\"1\" class=\"dataframe\">\n",
       "  <thead>\n",
       "    <tr style=\"text-align: right;\">\n",
       "      <th></th>\n",
       "      <th>customerID</th>\n",
       "      <th>gender</th>\n",
       "      <th>SeniorCitizen</th>\n",
       "      <th>Partner</th>\n",
       "      <th>Dependents</th>\n",
       "      <th>tenure</th>\n",
       "      <th>MultipleLines</th>\n",
       "      <th>InternetService</th>\n",
       "      <th>OnlineSecurity</th>\n",
       "      <th>OnlineBackup</th>\n",
       "      <th>DeviceProtection</th>\n",
       "      <th>TechSupport</th>\n",
       "      <th>StreamingTV</th>\n",
       "      <th>StreamingMovies</th>\n",
       "      <th>Contract</th>\n",
       "      <th>PaperlessBilling</th>\n",
       "      <th>PaymentMethod</th>\n",
       "      <th>MonthlyCharges</th>\n",
       "      <th>TotalCharges</th>\n",
       "      <th>numAdminTickets</th>\n",
       "      <th>numTechTickets</th>\n",
       "      <th>Churn</th>\n",
       "    </tr>\n",
       "  </thead>\n",
       "  <tbody>\n",
       "    <tr>\n",
       "      <th>0</th>\n",
       "      <td>5575-GNVDE</td>\n",
       "      <td>Male</td>\n",
       "      <td>0</td>\n",
       "      <td>No</td>\n",
       "      <td>No</td>\n",
       "      <td>34</td>\n",
       "      <td>No</td>\n",
       "      <td>DSL</td>\n",
       "      <td>Yes</td>\n",
       "      <td>No</td>\n",
       "      <td>Yes</td>\n",
       "      <td>No</td>\n",
       "      <td>No</td>\n",
       "      <td>No</td>\n",
       "      <td>One year</td>\n",
       "      <td>No</td>\n",
       "      <td>Mailed check</td>\n",
       "      <td>56.95</td>\n",
       "      <td>1889.5</td>\n",
       "      <td>0</td>\n",
       "      <td>0</td>\n",
       "      <td>No</td>\n",
       "    </tr>\n",
       "    <tr>\n",
       "      <th>1</th>\n",
       "      <td>3668-QPYBK</td>\n",
       "      <td>Male</td>\n",
       "      <td>0</td>\n",
       "      <td>No</td>\n",
       "      <td>No</td>\n",
       "      <td>2</td>\n",
       "      <td>No</td>\n",
       "      <td>DSL</td>\n",
       "      <td>Yes</td>\n",
       "      <td>Yes</td>\n",
       "      <td>No</td>\n",
       "      <td>No</td>\n",
       "      <td>No</td>\n",
       "      <td>No</td>\n",
       "      <td>Month-to-month</td>\n",
       "      <td>Yes</td>\n",
       "      <td>Mailed check</td>\n",
       "      <td>53.85</td>\n",
       "      <td>108.15</td>\n",
       "      <td>0</td>\n",
       "      <td>0</td>\n",
       "      <td>Yes</td>\n",
       "    </tr>\n",
       "    <tr>\n",
       "      <th>2</th>\n",
       "      <td>9237-HQITU</td>\n",
       "      <td>Female</td>\n",
       "      <td>0</td>\n",
       "      <td>No</td>\n",
       "      <td>No</td>\n",
       "      <td>2</td>\n",
       "      <td>No</td>\n",
       "      <td>Fiber optic</td>\n",
       "      <td>No</td>\n",
       "      <td>No</td>\n",
       "      <td>No</td>\n",
       "      <td>No</td>\n",
       "      <td>No</td>\n",
       "      <td>No</td>\n",
       "      <td>Month-to-month</td>\n",
       "      <td>Yes</td>\n",
       "      <td>Electronic check</td>\n",
       "      <td>70.70</td>\n",
       "      <td>151.65</td>\n",
       "      <td>0</td>\n",
       "      <td>0</td>\n",
       "      <td>Yes</td>\n",
       "    </tr>\n",
       "    <tr>\n",
       "      <th>3</th>\n",
       "      <td>9305-CDSKC</td>\n",
       "      <td>Female</td>\n",
       "      <td>0</td>\n",
       "      <td>No</td>\n",
       "      <td>No</td>\n",
       "      <td>8</td>\n",
       "      <td>Yes</td>\n",
       "      <td>Fiber optic</td>\n",
       "      <td>No</td>\n",
       "      <td>No</td>\n",
       "      <td>Yes</td>\n",
       "      <td>No</td>\n",
       "      <td>Yes</td>\n",
       "      <td>Yes</td>\n",
       "      <td>Month-to-month</td>\n",
       "      <td>Yes</td>\n",
       "      <td>Electronic check</td>\n",
       "      <td>99.65</td>\n",
       "      <td>820.5</td>\n",
       "      <td>0</td>\n",
       "      <td>0</td>\n",
       "      <td>Yes</td>\n",
       "    </tr>\n",
       "    <tr>\n",
       "      <th>4</th>\n",
       "      <td>1452-KIOVK</td>\n",
       "      <td>Male</td>\n",
       "      <td>0</td>\n",
       "      <td>No</td>\n",
       "      <td>Yes</td>\n",
       "      <td>22</td>\n",
       "      <td>Yes</td>\n",
       "      <td>Fiber optic</td>\n",
       "      <td>No</td>\n",
       "      <td>Yes</td>\n",
       "      <td>No</td>\n",
       "      <td>No</td>\n",
       "      <td>Yes</td>\n",
       "      <td>No</td>\n",
       "      <td>Month-to-month</td>\n",
       "      <td>Yes</td>\n",
       "      <td>Credit card (automatic)</td>\n",
       "      <td>89.10</td>\n",
       "      <td>1949.4</td>\n",
       "      <td>0</td>\n",
       "      <td>0</td>\n",
       "      <td>No</td>\n",
       "    </tr>\n",
       "    <tr>\n",
       "      <th>5</th>\n",
       "      <td>7892-POOKP</td>\n",
       "      <td>Female</td>\n",
       "      <td>0</td>\n",
       "      <td>Yes</td>\n",
       "      <td>No</td>\n",
       "      <td>28</td>\n",
       "      <td>Yes</td>\n",
       "      <td>Fiber optic</td>\n",
       "      <td>No</td>\n",
       "      <td>No</td>\n",
       "      <td>Yes</td>\n",
       "      <td>Yes</td>\n",
       "      <td>Yes</td>\n",
       "      <td>Yes</td>\n",
       "      <td>Month-to-month</td>\n",
       "      <td>Yes</td>\n",
       "      <td>Electronic check</td>\n",
       "      <td>104.80</td>\n",
       "      <td>3046.05</td>\n",
       "      <td>0</td>\n",
       "      <td>2</td>\n",
       "      <td>Yes</td>\n",
       "    </tr>\n",
       "    <tr>\n",
       "      <th>6</th>\n",
       "      <td>6388-TABGU</td>\n",
       "      <td>Male</td>\n",
       "      <td>0</td>\n",
       "      <td>No</td>\n",
       "      <td>Yes</td>\n",
       "      <td>62</td>\n",
       "      <td>No</td>\n",
       "      <td>DSL</td>\n",
       "      <td>Yes</td>\n",
       "      <td>Yes</td>\n",
       "      <td>No</td>\n",
       "      <td>No</td>\n",
       "      <td>No</td>\n",
       "      <td>No</td>\n",
       "      <td>One year</td>\n",
       "      <td>No</td>\n",
       "      <td>Bank transfer (automatic)</td>\n",
       "      <td>56.15</td>\n",
       "      <td>3487.95</td>\n",
       "      <td>0</td>\n",
       "      <td>0</td>\n",
       "      <td>No</td>\n",
       "    </tr>\n",
       "    <tr>\n",
       "      <th>7</th>\n",
       "      <td>9763-GRSKD</td>\n",
       "      <td>Male</td>\n",
       "      <td>0</td>\n",
       "      <td>Yes</td>\n",
       "      <td>Yes</td>\n",
       "      <td>13</td>\n",
       "      <td>No</td>\n",
       "      <td>DSL</td>\n",
       "      <td>Yes</td>\n",
       "      <td>No</td>\n",
       "      <td>No</td>\n",
       "      <td>No</td>\n",
       "      <td>No</td>\n",
       "      <td>No</td>\n",
       "      <td>Month-to-month</td>\n",
       "      <td>Yes</td>\n",
       "      <td>Mailed check</td>\n",
       "      <td>49.95</td>\n",
       "      <td>587.45</td>\n",
       "      <td>1</td>\n",
       "      <td>0</td>\n",
       "      <td>No</td>\n",
       "    </tr>\n",
       "    <tr>\n",
       "      <th>8</th>\n",
       "      <td>8091-TTVAX</td>\n",
       "      <td>Male</td>\n",
       "      <td>0</td>\n",
       "      <td>Yes</td>\n",
       "      <td>No</td>\n",
       "      <td>58</td>\n",
       "      <td>Yes</td>\n",
       "      <td>Fiber optic</td>\n",
       "      <td>No</td>\n",
       "      <td>No</td>\n",
       "      <td>Yes</td>\n",
       "      <td>No</td>\n",
       "      <td>Yes</td>\n",
       "      <td>Yes</td>\n",
       "      <td>One year</td>\n",
       "      <td>No</td>\n",
       "      <td>Credit card (automatic)</td>\n",
       "      <td>100.35</td>\n",
       "      <td>5681.1</td>\n",
       "      <td>0</td>\n",
       "      <td>0</td>\n",
       "      <td>No</td>\n",
       "    </tr>\n",
       "    <tr>\n",
       "      <th>9</th>\n",
       "      <td>0280-XJGEX</td>\n",
       "      <td>Male</td>\n",
       "      <td>0</td>\n",
       "      <td>No</td>\n",
       "      <td>No</td>\n",
       "      <td>49</td>\n",
       "      <td>Yes</td>\n",
       "      <td>Fiber optic</td>\n",
       "      <td>No</td>\n",
       "      <td>Yes</td>\n",
       "      <td>Yes</td>\n",
       "      <td>No</td>\n",
       "      <td>Yes</td>\n",
       "      <td>Yes</td>\n",
       "      <td>Month-to-month</td>\n",
       "      <td>Yes</td>\n",
       "      <td>Bank transfer (automatic)</td>\n",
       "      <td>103.70</td>\n",
       "      <td>5036.3</td>\n",
       "      <td>5</td>\n",
       "      <td>4</td>\n",
       "      <td>Yes</td>\n",
       "    </tr>\n",
       "  </tbody>\n",
       "</table>\n",
       "</div>"
      ],
      "text/plain": [
       "   customerID  gender  SeniorCitizen Partner Dependents  tenure MultipleLines  \\\n",
       "0  5575-GNVDE    Male              0      No         No      34            No   \n",
       "1  3668-QPYBK    Male              0      No         No       2            No   \n",
       "2  9237-HQITU  Female              0      No         No       2            No   \n",
       "3  9305-CDSKC  Female              0      No         No       8           Yes   \n",
       "4  1452-KIOVK    Male              0      No        Yes      22           Yes   \n",
       "5  7892-POOKP  Female              0     Yes         No      28           Yes   \n",
       "6  6388-TABGU    Male              0      No        Yes      62            No   \n",
       "7  9763-GRSKD    Male              0     Yes        Yes      13            No   \n",
       "8  8091-TTVAX    Male              0     Yes         No      58           Yes   \n",
       "9  0280-XJGEX    Male              0      No         No      49           Yes   \n",
       "\n",
       "  InternetService OnlineSecurity OnlineBackup DeviceProtection TechSupport  \\\n",
       "0             DSL            Yes           No              Yes          No   \n",
       "1             DSL            Yes          Yes               No          No   \n",
       "2     Fiber optic             No           No               No          No   \n",
       "3     Fiber optic             No           No              Yes          No   \n",
       "4     Fiber optic             No          Yes               No          No   \n",
       "5     Fiber optic             No           No              Yes         Yes   \n",
       "6             DSL            Yes          Yes               No          No   \n",
       "7             DSL            Yes           No               No          No   \n",
       "8     Fiber optic             No           No              Yes          No   \n",
       "9     Fiber optic             No          Yes              Yes          No   \n",
       "\n",
       "  StreamingTV StreamingMovies        Contract PaperlessBilling  \\\n",
       "0          No              No        One year               No   \n",
       "1          No              No  Month-to-month              Yes   \n",
       "2          No              No  Month-to-month              Yes   \n",
       "3         Yes             Yes  Month-to-month              Yes   \n",
       "4         Yes              No  Month-to-month              Yes   \n",
       "5         Yes             Yes  Month-to-month              Yes   \n",
       "6          No              No        One year               No   \n",
       "7          No              No  Month-to-month              Yes   \n",
       "8         Yes             Yes        One year               No   \n",
       "9         Yes             Yes  Month-to-month              Yes   \n",
       "\n",
       "               PaymentMethod  MonthlyCharges TotalCharges  numAdminTickets  \\\n",
       "0               Mailed check           56.95       1889.5                0   \n",
       "1               Mailed check           53.85       108.15                0   \n",
       "2           Electronic check           70.70       151.65                0   \n",
       "3           Electronic check           99.65        820.5                0   \n",
       "4    Credit card (automatic)           89.10       1949.4                0   \n",
       "5           Electronic check          104.80      3046.05                0   \n",
       "6  Bank transfer (automatic)           56.15      3487.95                0   \n",
       "7               Mailed check           49.95       587.45                1   \n",
       "8    Credit card (automatic)          100.35       5681.1                0   \n",
       "9  Bank transfer (automatic)          103.70       5036.3                5   \n",
       "\n",
       "   numTechTickets Churn  \n",
       "0               0    No  \n",
       "1               0   Yes  \n",
       "2               0   Yes  \n",
       "3               0   Yes  \n",
       "4               0    No  \n",
       "5               2   Yes  \n",
       "6               0    No  \n",
       "7               0    No  \n",
       "8               0    No  \n",
       "9               4   Yes  "
      ]
     },
     "execution_count": 111,
     "metadata": {},
     "output_type": "execute_result"
    }
   ],
   "source": [
    "df.head(10)"
   ]
  },
  {
   "cell_type": "code",
   "execution_count": 6,
   "id": "1595a92e",
   "metadata": {},
   "outputs": [
    {
     "data": {
      "text/plain": [
       "(4835, 22)"
      ]
     },
     "execution_count": 6,
     "metadata": {},
     "output_type": "execute_result"
    }
   ],
   "source": [
    "df.shape"
   ]
  },
  {
   "cell_type": "code",
   "execution_count": 7,
   "id": "f7ae2e1d",
   "metadata": {},
   "outputs": [
    {
     "name": "stdout",
     "output_type": "stream",
     "text": [
      "<class 'pandas.core.frame.DataFrame'>\n",
      "RangeIndex: 4835 entries, 0 to 4834\n",
      "Data columns (total 22 columns):\n",
      " #   Column            Non-Null Count  Dtype  \n",
      "---  ------            --------------  -----  \n",
      " 0   customerID        4835 non-null   object \n",
      " 1   gender            4835 non-null   object \n",
      " 2   SeniorCitizen     4835 non-null   int64  \n",
      " 3   Partner           4835 non-null   object \n",
      " 4   Dependents        4835 non-null   object \n",
      " 5   tenure            4835 non-null   int64  \n",
      " 6   MultipleLines     4835 non-null   object \n",
      " 7   InternetService   4835 non-null   object \n",
      " 8   OnlineSecurity    4835 non-null   object \n",
      " 9   OnlineBackup      4835 non-null   object \n",
      " 10  DeviceProtection  4835 non-null   object \n",
      " 11  TechSupport       4835 non-null   object \n",
      " 12  StreamingTV       4835 non-null   object \n",
      " 13  StreamingMovies   4835 non-null   object \n",
      " 14  Contract          4835 non-null   object \n",
      " 15  PaperlessBilling  4835 non-null   object \n",
      " 16  PaymentMethod     4835 non-null   object \n",
      " 17  MonthlyCharges    4835 non-null   float64\n",
      " 18  TotalCharges      4835 non-null   object \n",
      " 19  numAdminTickets   4835 non-null   int64  \n",
      " 20  numTechTickets    4835 non-null   int64  \n",
      " 21  Churn             4835 non-null   object \n",
      "dtypes: float64(1), int64(4), object(17)\n",
      "memory usage: 831.1+ KB\n"
     ]
    }
   ],
   "source": [
    "df.info()"
   ]
  },
  {
   "cell_type": "code",
   "execution_count": 8,
   "id": "dead9758",
   "metadata": {},
   "outputs": [
    {
     "data": {
      "text/plain": [
       "customerID          0\n",
       "gender              0\n",
       "SeniorCitizen       0\n",
       "Partner             0\n",
       "Dependents          0\n",
       "tenure              0\n",
       "MultipleLines       0\n",
       "InternetService     0\n",
       "OnlineSecurity      0\n",
       "OnlineBackup        0\n",
       "DeviceProtection    0\n",
       "TechSupport         0\n",
       "StreamingTV         0\n",
       "StreamingMovies     0\n",
       "Contract            0\n",
       "PaperlessBilling    0\n",
       "PaymentMethod       0\n",
       "MonthlyCharges      0\n",
       "TotalCharges        0\n",
       "numAdminTickets     0\n",
       "numTechTickets      0\n",
       "Churn               0\n",
       "dtype: int64"
      ]
     },
     "execution_count": 8,
     "metadata": {},
     "output_type": "execute_result"
    }
   ],
   "source": [
    "df.isna().sum()"
   ]
  },
  {
   "cell_type": "code",
   "execution_count": 9,
   "id": "d74a444c",
   "metadata": {},
   "outputs": [],
   "source": [
    "Columns=list(df.columns)"
   ]
  },
  {
   "cell_type": "code",
   "execution_count": 10,
   "id": "b7a2768b",
   "metadata": {},
   "outputs": [
    {
     "name": "stdout",
     "output_type": "stream",
     "text": [
      "customerID ['5575-GNVDE' '3668-QPYBK' '9237-HQITU' ... '2234-XADUH' '8361-LTMKD'\n",
      " '3186-AJIEK']\n",
      "gender ['Male' 'Female']\n",
      "SeniorCitizen [0 1]\n",
      "Partner ['No' 'Yes']\n",
      "Dependents ['No' 'Yes']\n",
      "tenure [34  2  8 22 28 62 13 58 49 25 69 71 10 21 30 47 72 17 27  1  5 46 11 70\n",
      " 63 52 43 15 60 18 66  9  3 31 64 56  7 42 35 65 12 38 68 55 37 33 67 23\n",
      " 61 14 16 20 53  4 40  6 59 44 19 54 50 41 51 32 57 45 24 29 48 36 39 26\n",
      "  0]\n",
      "MultipleLines ['No' 'Yes']\n",
      "InternetService ['DSL' 'Fiber optic']\n",
      "OnlineSecurity ['Yes' 'No']\n",
      "OnlineBackup ['No' 'Yes']\n",
      "DeviceProtection ['Yes' 'No']\n",
      "TechSupport ['No' 'Yes']\n",
      "StreamingTV ['No' 'Yes']\n",
      "StreamingMovies ['No' 'Yes']\n",
      "Contract ['One year' 'Month-to-month' 'Two year']\n",
      "PaperlessBilling ['No' 'Yes']\n",
      "PaymentMethod ['Mailed check' 'Electronic check' 'Credit card (automatic)'\n",
      " 'Bank transfer (automatic)']\n",
      "MonthlyCharges [ 56.95  53.85  70.7  ... 108.35  44.2   78.7 ]\n",
      "TotalCharges [1889.5 108.15 151.65 ... 7362.9 306.6 6844.5]\n",
      "numAdminTickets [0 1 5 3 4 2]\n",
      "numTechTickets [0 2 4 3 1 6 5 7 8]\n",
      "Churn ['No' 'Yes']\n"
     ]
    }
   ],
   "source": [
    "for i in Columns:\n",
    "    print(i,df[i].unique())\n"
   ]
  },
  {
   "cell_type": "code",
   "execution_count": 16,
   "id": "0fcb4460",
   "metadata": {},
   "outputs": [],
   "source": [
    "df['SeniorCitizen']=df['SeniorCitizen'].astype(str) "
   ]
  },
  {
   "cell_type": "markdown",
   "id": "457bf594",
   "metadata": {},
   "source": [
    "# Exploratory Data Analysis"
   ]
  },
  {
   "cell_type": "code",
   "execution_count": 12,
   "id": "754f66bb",
   "metadata": {},
   "outputs": [
    {
     "data": {
      "text/html": [
       "<div>\n",
       "<style scoped>\n",
       "    .dataframe tbody tr th:only-of-type {\n",
       "        vertical-align: middle;\n",
       "    }\n",
       "\n",
       "    .dataframe tbody tr th {\n",
       "        vertical-align: top;\n",
       "    }\n",
       "\n",
       "    .dataframe thead th {\n",
       "        text-align: right;\n",
       "    }\n",
       "</style>\n",
       "<table border=\"1\" class=\"dataframe\">\n",
       "  <thead>\n",
       "    <tr style=\"text-align: right;\">\n",
       "      <th></th>\n",
       "      <th>tenure</th>\n",
       "      <th>MonthlyCharges</th>\n",
       "      <th>numAdminTickets</th>\n",
       "      <th>numTechTickets</th>\n",
       "    </tr>\n",
       "  </thead>\n",
       "  <tbody>\n",
       "    <tr>\n",
       "      <th>count</th>\n",
       "      <td>4835.000000</td>\n",
       "      <td>4835.000000</td>\n",
       "      <td>4835.000000</td>\n",
       "      <td>4835.000000</td>\n",
       "    </tr>\n",
       "    <tr>\n",
       "      <th>mean</th>\n",
       "      <td>33.036194</td>\n",
       "      <td>81.755171</td>\n",
       "      <td>0.510651</td>\n",
       "      <td>0.521613</td>\n",
       "    </tr>\n",
       "    <tr>\n",
       "      <th>std</th>\n",
       "      <td>24.642309</td>\n",
       "      <td>18.303085</td>\n",
       "      <td>1.268162</td>\n",
       "      <td>1.386776</td>\n",
       "    </tr>\n",
       "    <tr>\n",
       "      <th>min</th>\n",
       "      <td>0.000000</td>\n",
       "      <td>42.900000</td>\n",
       "      <td>0.000000</td>\n",
       "      <td>0.000000</td>\n",
       "    </tr>\n",
       "    <tr>\n",
       "      <th>25%</th>\n",
       "      <td>9.000000</td>\n",
       "      <td>69.775000</td>\n",
       "      <td>0.000000</td>\n",
       "      <td>0.000000</td>\n",
       "    </tr>\n",
       "    <tr>\n",
       "      <th>50%</th>\n",
       "      <td>30.000000</td>\n",
       "      <td>82.500000</td>\n",
       "      <td>0.000000</td>\n",
       "      <td>0.000000</td>\n",
       "    </tr>\n",
       "    <tr>\n",
       "      <th>75%</th>\n",
       "      <td>56.000000</td>\n",
       "      <td>95.700000</td>\n",
       "      <td>0.000000</td>\n",
       "      <td>0.000000</td>\n",
       "    </tr>\n",
       "    <tr>\n",
       "      <th>max</th>\n",
       "      <td>72.000000</td>\n",
       "      <td>118.750000</td>\n",
       "      <td>5.000000</td>\n",
       "      <td>8.000000</td>\n",
       "    </tr>\n",
       "  </tbody>\n",
       "</table>\n",
       "</div>"
      ],
      "text/plain": [
       "            tenure  MonthlyCharges  numAdminTickets  numTechTickets\n",
       "count  4835.000000     4835.000000      4835.000000     4835.000000\n",
       "mean     33.036194       81.755171         0.510651        0.521613\n",
       "std      24.642309       18.303085         1.268162        1.386776\n",
       "min       0.000000       42.900000         0.000000        0.000000\n",
       "25%       9.000000       69.775000         0.000000        0.000000\n",
       "50%      30.000000       82.500000         0.000000        0.000000\n",
       "75%      56.000000       95.700000         0.000000        0.000000\n",
       "max      72.000000      118.750000         5.000000        8.000000"
      ]
     },
     "execution_count": 12,
     "metadata": {},
     "output_type": "execute_result"
    }
   ],
   "source": [
    "df.describe()"
   ]
  },
  {
   "cell_type": "code",
   "execution_count": 13,
   "id": "cae54021",
   "metadata": {},
   "outputs": [
    {
     "data": {
      "text/html": [
       "<div>\n",
       "<style scoped>\n",
       "    .dataframe tbody tr th:only-of-type {\n",
       "        vertical-align: middle;\n",
       "    }\n",
       "\n",
       "    .dataframe tbody tr th {\n",
       "        vertical-align: top;\n",
       "    }\n",
       "\n",
       "    .dataframe thead tr th {\n",
       "        text-align: left;\n",
       "    }\n",
       "\n",
       "    .dataframe thead tr:last-of-type th {\n",
       "        text-align: right;\n",
       "    }\n",
       "</style>\n",
       "<table border=\"1\" class=\"dataframe\">\n",
       "  <thead>\n",
       "    <tr>\n",
       "      <th></th>\n",
       "      <th colspan=\"8\" halign=\"left\">tenure</th>\n",
       "      <th colspan=\"8\" halign=\"left\">MonthlyCharges</th>\n",
       "      <th colspan=\"8\" halign=\"left\">numAdminTickets</th>\n",
       "      <th colspan=\"8\" halign=\"left\">numTechTickets</th>\n",
       "    </tr>\n",
       "    <tr>\n",
       "      <th></th>\n",
       "      <th>count</th>\n",
       "      <th>mean</th>\n",
       "      <th>std</th>\n",
       "      <th>min</th>\n",
       "      <th>25%</th>\n",
       "      <th>50%</th>\n",
       "      <th>75%</th>\n",
       "      <th>max</th>\n",
       "      <th>count</th>\n",
       "      <th>mean</th>\n",
       "      <th>std</th>\n",
       "      <th>min</th>\n",
       "      <th>25%</th>\n",
       "      <th>50%</th>\n",
       "      <th>75%</th>\n",
       "      <th>max</th>\n",
       "      <th>count</th>\n",
       "      <th>mean</th>\n",
       "      <th>std</th>\n",
       "      <th>min</th>\n",
       "      <th>25%</th>\n",
       "      <th>50%</th>\n",
       "      <th>75%</th>\n",
       "      <th>max</th>\n",
       "      <th>count</th>\n",
       "      <th>mean</th>\n",
       "      <th>std</th>\n",
       "      <th>min</th>\n",
       "      <th>25%</th>\n",
       "      <th>50%</th>\n",
       "      <th>75%</th>\n",
       "      <th>max</th>\n",
       "    </tr>\n",
       "    <tr>\n",
       "      <th>Churn</th>\n",
       "      <th></th>\n",
       "      <th></th>\n",
       "      <th></th>\n",
       "      <th></th>\n",
       "      <th></th>\n",
       "      <th></th>\n",
       "      <th></th>\n",
       "      <th></th>\n",
       "      <th></th>\n",
       "      <th></th>\n",
       "      <th></th>\n",
       "      <th></th>\n",
       "      <th></th>\n",
       "      <th></th>\n",
       "      <th></th>\n",
       "      <th></th>\n",
       "      <th></th>\n",
       "      <th></th>\n",
       "      <th></th>\n",
       "      <th></th>\n",
       "      <th></th>\n",
       "      <th></th>\n",
       "      <th></th>\n",
       "      <th></th>\n",
       "      <th></th>\n",
       "      <th></th>\n",
       "      <th></th>\n",
       "      <th></th>\n",
       "      <th></th>\n",
       "      <th></th>\n",
       "      <th></th>\n",
       "      <th></th>\n",
       "    </tr>\n",
       "  </thead>\n",
       "  <tbody>\n",
       "    <tr>\n",
       "      <th>No</th>\n",
       "      <td>3249.0</td>\n",
       "      <td>39.935365</td>\n",
       "      <td>23.834484</td>\n",
       "      <td>0.0</td>\n",
       "      <td>18.0</td>\n",
       "      <td>42.0</td>\n",
       "      <td>63.0</td>\n",
       "      <td>72.0</td>\n",
       "      <td>3249.0</td>\n",
       "      <td>81.51362</td>\n",
       "      <td>18.883664</td>\n",
       "      <td>43.45</td>\n",
       "      <td>68.1500</td>\n",
       "      <td>81.500</td>\n",
       "      <td>95.95</td>\n",
       "      <td>118.75</td>\n",
       "      <td>3249.0</td>\n",
       "      <td>0.522930</td>\n",
       "      <td>1.278438</td>\n",
       "      <td>0.0</td>\n",
       "      <td>0.0</td>\n",
       "      <td>0.0</td>\n",
       "      <td>0.0</td>\n",
       "      <td>5.0</td>\n",
       "      <td>3249.0</td>\n",
       "      <td>0.159434</td>\n",
       "      <td>0.733902</td>\n",
       "      <td>0.0</td>\n",
       "      <td>0.0</td>\n",
       "      <td>0.0</td>\n",
       "      <td>0.0</td>\n",
       "      <td>7.0</td>\n",
       "    </tr>\n",
       "    <tr>\n",
       "      <th>Yes</th>\n",
       "      <td>1586.0</td>\n",
       "      <td>18.902900</td>\n",
       "      <td>19.759294</td>\n",
       "      <td>1.0</td>\n",
       "      <td>3.0</td>\n",
       "      <td>11.0</td>\n",
       "      <td>31.0</td>\n",
       "      <td>72.0</td>\n",
       "      <td>1586.0</td>\n",
       "      <td>82.25000</td>\n",
       "      <td>17.047215</td>\n",
       "      <td>42.90</td>\n",
       "      <td>72.2125</td>\n",
       "      <td>84.125</td>\n",
       "      <td>95.45</td>\n",
       "      <td>118.35</td>\n",
       "      <td>1586.0</td>\n",
       "      <td>0.485498</td>\n",
       "      <td>1.246868</td>\n",
       "      <td>0.0</td>\n",
       "      <td>0.0</td>\n",
       "      <td>0.0</td>\n",
       "      <td>0.0</td>\n",
       "      <td>5.0</td>\n",
       "      <td>1586.0</td>\n",
       "      <td>1.263556</td>\n",
       "      <td>1.985409</td>\n",
       "      <td>0.0</td>\n",
       "      <td>0.0</td>\n",
       "      <td>0.0</td>\n",
       "      <td>2.0</td>\n",
       "      <td>8.0</td>\n",
       "    </tr>\n",
       "  </tbody>\n",
       "</table>\n",
       "</div>"
      ],
      "text/plain": [
       "       tenure                                                     \\\n",
       "        count       mean        std  min   25%   50%   75%   max   \n",
       "Churn                                                              \n",
       "No     3249.0  39.935365  23.834484  0.0  18.0  42.0  63.0  72.0   \n",
       "Yes    1586.0  18.902900  19.759294  1.0   3.0  11.0  31.0  72.0   \n",
       "\n",
       "      MonthlyCharges                                                      \\\n",
       "               count      mean        std    min      25%     50%    75%   \n",
       "Churn                                                                      \n",
       "No            3249.0  81.51362  18.883664  43.45  68.1500  81.500  95.95   \n",
       "Yes           1586.0  82.25000  17.047215  42.90  72.2125  84.125  95.45   \n",
       "\n",
       "              numAdminTickets                                               \\\n",
       "          max           count      mean       std  min  25%  50%  75%  max   \n",
       "Churn                                                                        \n",
       "No     118.75          3249.0  0.522930  1.278438  0.0  0.0  0.0  0.0  5.0   \n",
       "Yes    118.35          1586.0  0.485498  1.246868  0.0  0.0  0.0  0.0  5.0   \n",
       "\n",
       "      numTechTickets                                               \n",
       "               count      mean       std  min  25%  50%  75%  max  \n",
       "Churn                                                              \n",
       "No            3249.0  0.159434  0.733902  0.0  0.0  0.0  0.0  7.0  \n",
       "Yes           1586.0  1.263556  1.985409  0.0  0.0  0.0  2.0  8.0  "
      ]
     },
     "execution_count": 13,
     "metadata": {},
     "output_type": "execute_result"
    }
   ],
   "source": [
    "df.groupby('Churn').describe()"
   ]
  },
  {
   "cell_type": "code",
   "execution_count": 14,
   "id": "0dd0fdec",
   "metadata": {},
   "outputs": [],
   "source": [
    "churn_count=df['Churn'].value_counts()\n",
    "churn_labels=['No','Yes']"
   ]
  },
  {
   "cell_type": "code",
   "execution_count": 15,
   "id": "f1c0a04a",
   "metadata": {},
   "outputs": [
    {
     "data": {
      "image/png": "[encoded data removed]",
      "text/plain": [
       "<Figure size 640x480 with 1 Axes>"
      ]
     },
     "metadata": {},
     "output_type": "display_data"
    }
   ],
   "source": [
    "plt.pie(churn_count,labels=churn_labels,autopct='%1.1f%%', startangle=140)\n",
    "plt.axis('equal')\n",
    "plt.show()"
   ]
  },
  {
   "cell_type": "code",
   "execution_count": 16,
   "id": "310ba5d2",
   "metadata": {},
   "outputs": [
    {
     "data": {
      "text/plain": [
       "Text(0, 0.5, 'Percentage of Churners')"
      ]
     },
     "execution_count": 16,
     "metadata": {},
     "output_type": "execute_result"
    },
    {
     "data": {
      "image/png": "[encoded data removed]",
      "text/plain": [
       "<Figure size 1000x600 with 1 Axes>"
      ]
     },
     "metadata": {},
     "output_type": "display_data"
    }
   ],
   "source": [
    "cross_tab_gender=pd.crosstab(index=df['gender'],columns=df['Churn'],normalize='index')\n",
    "cross_tab_gender.plot(kind='bar',stacked=True,colormap='tab10',figsize=(10,6))\n",
    "plt.legend(loc='upper left',ncol=2)\n",
    "plt.xlabel('Gender')\n",
    "plt.ylabel('Percentage of Churners')"
   ]
  },
  {
   "cell_type": "code",
   "execution_count": 17,
   "id": "8dde86b7",
   "metadata": {},
   "outputs": [
    {
     "data": {
      "text/plain": [
       "Text(0, 0.5, 'Churn')"
      ]
     },
     "execution_count": 17,
     "metadata": {},
     "output_type": "execute_result"
    },
    {
     "data": {
      "image/png": "[encoded data removed]",
      "text/plain": [
       "<Figure size 1000x600 with 1 Axes>"
      ]
     },
     "metadata": {},
     "output_type": "display_data"
    }
   ],
   "source": [
    "tabs_SeniorCitizen=pd.crosstab(index=df['SeniorCitizen'],columns=df['Churn'],normalize='index')\n",
    "tabs_SeniorCitizen.plot(kind='bar',stacked=True,colormap='tab10',figsize=(10,6))\n",
    "plt.legend(loc='upper left',ncol=2)\n",
    "plt.xlabel('Senior Citizen')\n",
    "plt.ylabel('Churn')"
   ]
  },
  {
   "cell_type": "code",
   "execution_count": 18,
   "id": "9a1e31db",
   "metadata": {},
   "outputs": [
    {
     "data": {
      "text/plain": [
       "Text(0, 0.5, 'Churn')"
      ]
     },
     "execution_count": 18,
     "metadata": {},
     "output_type": "execute_result"
    },
    {
     "data": {
      "image/png": "[encoded data removed]",
      "text/plain": [
       "<Figure size 1000x600 with 1 Axes>"
      ]
     },
     "metadata": {},
     "output_type": "display_data"
    }
   ],
   "source": [
    "tabs_Partner=pd.crosstab(index=df['Partner'],columns=df['Churn'],normalize='index')\n",
    "tabs_Partner.plot(kind='bar',stacked=True,colormap='tab10',figsize=(10,6))\n",
    "plt.legend(loc='upper left',ncol=2)\n",
    "plt.xlabel('Partner')\n",
    "plt.ylabel('Churn')"
   ]
  },
  {
   "cell_type": "code",
   "execution_count": 19,
   "id": "4292ff13",
   "metadata": {},
   "outputs": [
    {
     "data": {
      "text/plain": [
       "Text(0, 0.5, 'Churn')"
      ]
     },
     "execution_count": 19,
     "metadata": {},
     "output_type": "execute_result"
    },
    {
     "data": {
      "image/png": "[encoded data removed]",
      "text/plain": [
       "<Figure size 1000x600 with 1 Axes>"
      ]
     },
     "metadata": {},
     "output_type": "display_data"
    }
   ],
   "source": [
    "tabs_Dependents=pd.crosstab(index=df['Dependents'],columns=df['Churn'],normalize='index')\n",
    "tabs_Dependents.plot(kind='bar',stacked=True,colormap='tab10',figsize=(10,6))\n",
    "plt.legend(loc='upper left',ncol=2)\n",
    "plt.xlabel('Dependents')\n",
    "plt.ylabel('Churn')"
   ]
  },
  {
   "cell_type": "code",
   "execution_count": 20,
   "id": "b726cbd5",
   "metadata": {},
   "outputs": [
    {
     "data": {
      "text/plain": [
       "Text(0, 0.5, 'Churn')"
      ]
     },
     "execution_count": 20,
     "metadata": {},
     "output_type": "execute_result"
    },
    {
     "data": {
      "image/png": "[encoded data removed]",
      "text/plain": [
       "<Figure size 1000x600 with 1 Axes>"
      ]
     },
     "metadata": {},
     "output_type": "display_data"
    }
   ],
   "source": [
    "tabs_MultipleLines=pd.crosstab(index=df['MultipleLines'],columns=df['Churn'],normalize='index')\n",
    "tabs_MultipleLines.plot(kind='bar',stacked=True,colormap='tab10',figsize=(10,6))\n",
    "plt.legend(loc='upper left',ncol=2)\n",
    "plt.xlabel('MultipleLines')\n",
    "plt.ylabel('Churn')"
   ]
  },
  {
   "cell_type": "code",
   "execution_count": 21,
   "id": "9ed648fb",
   "metadata": {},
   "outputs": [
    {
     "data": {
      "text/plain": [
       "Text(0, 0.5, 'Churn')"
      ]
     },
     "execution_count": 21,
     "metadata": {},
     "output_type": "execute_result"
    },
    {
     "data": {
      "image/png": "[encoded data removed]",
      "text/plain": [
       "<Figure size 1000x600 with 1 Axes>"
      ]
     },
     "metadata": {},
     "output_type": "display_data"
    }
   ],
   "source": [
    "tabs_InternetService=pd.crosstab(index=df['InternetService'],columns=df['Churn'],normalize='index')\n",
    "tabs_InternetService.plot(kind='bar',stacked=True,colormap='tab10',figsize=(10,6))\n",
    "plt.legend(loc='upper left',ncol=2)\n",
    "plt.xlabel('InternetService')\n",
    "plt.ylabel('Churn')"
   ]
  },
  {
   "cell_type": "code",
   "execution_count": 22,
   "id": "582554a6",
   "metadata": {},
   "outputs": [
    {
     "data": {
      "text/plain": [
       "Text(0, 0.5, 'Churn')"
      ]
     },
     "execution_count": 22,
     "metadata": {},
     "output_type": "execute_result"
    },
    {
     "data": {
      "image/png": "[encoded data removed]",
      "text/plain": [
       "<Figure size 1000x600 with 1 Axes>"
      ]
     },
     "metadata": {},
     "output_type": "display_data"
    }
   ],
   "source": [
    "tabs_OnlineSecurity=pd.crosstab(index=df['OnlineSecurity'],columns=df['Churn'],normalize='index')\n",
    "tabs_OnlineSecurity.plot(kind='bar',stacked=True,colormap='tab10',figsize=(10,6))\n",
    "plt.legend(loc='upper left',ncol=2)\n",
    "plt.xlabel('OnlineSecurity')\n",
    "plt.ylabel('Churn')"
   ]
  },
  {
   "cell_type": "code",
   "execution_count": 23,
   "id": "444ee9ac",
   "metadata": {},
   "outputs": [
    {
     "data": {
      "text/plain": [
       "Text(0, 0.5, 'Churn')"
      ]
     },
     "execution_count": 23,
     "metadata": {},
     "output_type": "execute_result"
    },
    {
     "data": {
      "image/png": "[encoded data removed]",
      "text/plain": [
       "<Figure size 1000x600 with 1 Axes>"
      ]
     },
     "metadata": {},
     "output_type": "display_data"
    }
   ],
   "source": [
    "tabs_OnlineBackup=pd.crosstab(index=df['OnlineBackup'],columns=df['Churn'],normalize='index')\n",
    "tabs_OnlineBackup.plot(kind='bar',stacked=True,colormap='tab10',figsize=(10,6))\n",
    "plt.legend(loc='upper left',ncol=2)\n",
    "plt.xlabel('OnlineBackup')\n",
    "plt.ylabel('Churn')"
   ]
  },
  {
   "cell_type": "code",
   "execution_count": 24,
   "id": "32559ec7",
   "metadata": {},
   "outputs": [
    {
     "data": {
      "text/plain": [
       "Text(0, 0.5, 'Churn')"
      ]
     },
     "execution_count": 24,
     "metadata": {},
     "output_type": "execute_result"
    },
    {
     "data": {
      "image/png": "[encoded data removed]",
      "text/plain": [
       "<Figure size 1000x600 with 1 Axes>"
      ]
     },
     "metadata": {},
     "output_type": "display_data"
    }
   ],
   "source": [
    "tabs_DeviceProtection=pd.crosstab(index=df['DeviceProtection'],columns=df['Churn'],normalize='index')\n",
    "tabs_DeviceProtection.plot(kind='bar',stacked=True,colormap='tab10',figsize=(10,6))\n",
    "plt.legend(loc='upper left',ncol=2)\n",
    "plt.xlabel('DeviceProtection')\n",
    "plt.ylabel('Churn')"
   ]
  },
  {
   "cell_type": "code",
   "execution_count": 25,
   "id": "d8f1c6f6",
   "metadata": {},
   "outputs": [
    {
     "data": {
      "text/plain": [
       "Text(0, 0.5, 'Churn')"
      ]
     },
     "execution_count": 25,
     "metadata": {},
     "output_type": "execute_result"
    },
    {
     "data": {
      "image/png": "[encoded data removed]",
      "text/plain": [
       "<Figure size 1000x600 with 1 Axes>"
      ]
     },
     "metadata": {},
     "output_type": "display_data"
    }
   ],
   "source": [
    "tabs_TechSupport=pd.crosstab(index=df['TechSupport'],columns=df['Churn'],normalize='index')\n",
    "tabs_TechSupport.plot(kind='bar',stacked=True,colormap='tab10',figsize=(10,6))\n",
    "plt.legend(loc='upper left',ncol=2)\n",
    "plt.xlabel('TechSupport')\n",
    "plt.ylabel('Churn')"
   ]
  },
  {
   "cell_type": "code",
   "execution_count": 26,
   "id": "a4bc8333",
   "metadata": {},
   "outputs": [
    {
     "data": {
      "text/plain": [
       "Text(0, 0.5, 'Churn')"
      ]
     },
     "execution_count": 26,
     "metadata": {},
     "output_type": "execute_result"
    },
    {
     "data": {
      "image/png": "[encoded data removed]",
      "text/plain": [
       "<Figure size 1000x600 with 1 Axes>"
      ]
     },
     "metadata": {},
     "output_type": "display_data"
    }
   ],
   "source": [
    "tabs_StreamingTV=pd.crosstab(index=df['StreamingTV'],columns=df['Churn'],normalize='index')\n",
    "tabs_StreamingTV.plot(kind='bar',stacked=True,colormap='tab10',figsize=(10,6))\n",
    "plt.legend(loc='upper left',ncol=2)\n",
    "plt.xlabel('StreamingTV')\n",
    "plt.ylabel('Churn')"
   ]
  },
  {
   "cell_type": "code",
   "execution_count": 27,
   "id": "8c6feb5c",
   "metadata": {},
   "outputs": [
    {
     "data": {
      "text/plain": [
       "Text(0, 0.5, 'Churn')"
      ]
     },
     "execution_count": 27,
     "metadata": {},
     "output_type": "execute_result"
    },
    {
     "data": {
      "image/png": "[encoded data removed]",
      "text/plain": [
       "<Figure size 1000x600 with 1 Axes>"
      ]
     },
     "metadata": {},
     "output_type": "display_data"
    }
   ],
   "source": [
    "tabs_StreamingMovies=pd.crosstab(index=df['StreamingMovies'],columns=df['Churn'],normalize='index')\n",
    "tabs_StreamingMovies.plot(kind='bar',stacked=True,colormap='tab10',figsize=(10,6))\n",
    "plt.legend(loc='upper left',ncol=2)\n",
    "plt.xlabel('StreamingMovies')\n",
    "plt.ylabel('Churn')"
   ]
  },
  {
   "cell_type": "code",
   "execution_count": 28,
   "id": "bb911994",
   "metadata": {},
   "outputs": [
    {
     "data": {
      "text/plain": [
       "Text(0, 0.5, 'Churn')"
      ]
     },
     "execution_count": 28,
     "metadata": {},
     "output_type": "execute_result"
    },
    {
     "data": {
      "image/png": "[encoded data removed]",
      "text/plain": [
       "<Figure size 1000x600 with 1 Axes>"
      ]
     },
     "metadata": {},
     "output_type": "display_data"
    }
   ],
   "source": [
    "tabs_Contract=pd.crosstab(index=df['Contract'],columns=df['Churn'],normalize='index')\n",
    "tabs_Contract.plot(kind='bar',stacked=True,colormap='tab10',figsize=(10,6))\n",
    "plt.legend(loc='upper left',ncol=2)\n",
    "plt.xlabel('Contract')\n",
    "plt.ylabel('Churn')"
   ]
  },
  {
   "cell_type": "code",
   "execution_count": 29,
   "id": "c90a1343",
   "metadata": {},
   "outputs": [
    {
     "data": {
      "text/plain": [
       "Text(0, 0.5, 'Churn')"
      ]
     },
     "execution_count": 29,
     "metadata": {},
     "output_type": "execute_result"
    },
    {
     "data": {
      "image/png": "[encoded data removed]",
      "text/plain": [
       "<Figure size 1000x600 with 1 Axes>"
      ]
     },
     "metadata": {},
     "output_type": "display_data"
    }
   ],
   "source": [
    "tabs_PaperlessBilling=pd.crosstab(index=df['PaperlessBilling'],columns=df['Churn'],normalize='index')\n",
    "tabs_PaperlessBilling.plot(kind='bar',stacked=True,colormap='tab10',figsize=(10,6))\n",
    "plt.legend(loc='upper left',ncol=2)\n",
    "plt.xlabel('PaperlessBilling')\n",
    "plt.ylabel('Churn')"
   ]
  },
  {
   "cell_type": "code",
   "execution_count": 30,
   "id": "0532ccac",
   "metadata": {
    "scrolled": true
   },
   "outputs": [
    {
     "data": {
      "text/plain": [
       "Text(0, 0.5, 'Churn')"
      ]
     },
     "execution_count": 30,
     "metadata": {},
     "output_type": "execute_result"
    },
    {
     "data": {
      "image/png": "[encoded data removed]",
      "text/plain": [
       "<Figure size 1000x600 with 1 Axes>"
      ]
     },
     "metadata": {},
     "output_type": "display_data"
    }
   ],
   "source": [
    "tabs_PaymentMethod=pd.crosstab(index=df['PaymentMethod'],columns=df['Churn'],normalize='index')\n",
    "tabs_PaymentMethod.plot(kind='bar',stacked=True,colormap='tab10',figsize=(10,6))\n",
    "plt.legend(loc='upper left',ncol=2)\n",
    "plt.xlabel('PaymentMethod')\n",
    "plt.ylabel('Churn')"
   ]
  },
  {
   "cell_type": "code",
   "execution_count": 4,
   "id": "84078e6c",
   "metadata": {},
   "outputs": [],
   "source": [
    "df['Churn']=df['Churn'].replace(\"Yes\",\"1\",regex=True)\n",
    "df['Churn']=df['Churn'].replace(\"No\",\"0\",regex=True)\n",
    "\n",
    "df['gender']=df['gender'].replace(\"Female\",\"0\",regex=True)\n",
    "df['gender']=df['gender'].replace(\"Male\",\"1\",regex=True)\n",
    "\n",
    "df['Partner']=df['Partner'].replace(\"Yes\",\"1\",regex=True)\n",
    "df['Partner']=df['Partner'].replace(\"No\",\"0\",regex=True)\n",
    "\n",
    "df['Dependents']=df['Dependents'].replace(\"Yes\",\"1\",regex=True)\n",
    "df['Dependents']=df['Dependents'].replace(\"No\",\"0\",regex=True)\n",
    "\n",
    "df['PaperlessBilling']=df['PaperlessBilling'].replace(\"Yes\",\"1\",regex=True)\n",
    "df['PaperlessBilling']=df['PaperlessBilling'].replace(\"No\",\"0\",regex=True)\n",
    "\n",
    "df['MultipleLines']=df[\"MultipleLines\"].replace(\"Yes\",\"1\",regex=True)\n",
    "df['MultipleLines']=df[\"MultipleLines\"].replace(\"No\",\"0\",regex=True)\n",
    "\n",
    "df['OnlineSecurity']=df[\"OnlineSecurity\"].replace(\"Yes\",\"1\",regex=True)\n",
    "df['OnlineSecurity']=df[\"OnlineSecurity\"].replace(\"No\",\"0\",regex=True)\n",
    "\n",
    "df['OnlineBackup']=df[\"OnlineBackup\"].replace(\"Yes\",\"1\",regex=True)\n",
    "df['OnlineBackup']=df[\"OnlineBackup\"].replace(\"No\",\"0\",regex=True)\n",
    "\n",
    "df['DeviceProtection']=df[\"DeviceProtection\"].replace(\"Yes\",\"1\",regex=True)\n",
    "df['DeviceProtection']=df[\"DeviceProtection\"].replace(\"No\",\"0\",regex=True)\n",
    "\n",
    "df['TechSupport']=df[\"TechSupport\"].replace(\"Yes\",\"1\",regex=True)\n",
    "df['TechSupport']=df[\"TechSupport\"].replace(\"No\",\"0\",regex=True)\n",
    "\n",
    "df['StreamingTV']=df[\"StreamingTV\"].replace(\"Yes\",\"1\",regex=True)\n",
    "df['StreamingTV']=df[\"StreamingTV\"].replace(\"No\",\"0\",regex=True)\n",
    "\n",
    "df['StreamingMovies']=df[\"StreamingMovies\"].replace(\"Yes\",\"1\",regex=True)\n",
    "df['StreamingMovies']=df[\"StreamingMovies\"].replace(\"No\",\"0\",regex=True)\n",
    "\n",
    "df['DSL']=df[\"InternetService\"].replace(\"DSL\",\"1\",regex=True)\n",
    "df['DSL']=df[\"InternetService\"].replace(\"Fiber optic\",\"0\",regex=True)"
   ]
  },
  {
   "cell_type": "code",
   "execution_count": 5,
   "id": "1cd82c92",
   "metadata": {},
   "outputs": [],
   "source": [
    "# dummy encoding\n",
    "df['Contract'] = df['Contract'].astype('category')\n",
    "cat_variables = df[['Contract']]\n",
    "cat_dummies = pd.get_dummies(cat_variables)\n",
    "cat_dummies.drop(columns=['Contract_Two year'] , inplace =True)\n",
    "cat_dummies.head()\n",
    "df['Contract_Month-to-month'] = cat_dummies['Contract_Month-to-month']\n",
    "df.drop(columns=['Contract'] , inplace =True)"
   ]
  },
  {
   "cell_type": "code",
   "execution_count": 9,
   "id": "ad2b010b",
   "metadata": {},
   "outputs": [],
   "source": [
    "df['PaymentMethod']=df['PaymentMethod'].astype('category')\n",
    "df_payment=df[['PaymentMethod']]\n",
    "payment_dummies=pd.get_dummies(df_payment)\n",
    "df['Bank']=payment_dummies['PaymentMethod_Bank transfer (automatic)']\n",
    "df['Credit']=payment_dummies['PaymentMethod_Credit card (automatic)']\n",
    "df['Electronic_check']=payment_dummies['PaymentMethod_Electronic check']\n",
    "df.drop(columns=['PaymentMethod'],inplace=True)"
   ]
  },
  {
   "cell_type": "code",
   "execution_count": 10,
   "id": "0aa4c2dc",
   "metadata": {},
   "outputs": [],
   "source": [
    "df.drop(columns=\"customerID\",inplace=True)"
   ]
  },
  {
   "cell_type": "code",
   "execution_count": 19,
   "id": "cc32ac0a",
   "metadata": {},
   "outputs": [],
   "source": [
    "df_gender=pd.get_dummies(df['gender'],prefix='gender')\n",
    "df['gender']=df_gender['gender_1']\n",
    "df_senior=pd.get_dummies(df['SeniorCitizen'],prefix=\"sen\")\n",
    "df_senior\n",
    "df['SeniorCitizen']=df_senior['sen_1']\n",
    "df_Partner=pd.get_dummies(df['Partner'],prefix=\"Partner\")\n",
    "df_Partner\n",
    "df['Partner']=df_Partner['Partner_1']\n",
    "df_Dependents=pd.get_dummies(df['Dependents'],prefix=\"Dependents\")\n",
    "df_Dependents\n",
    "df['Dependents']=df_Dependents['Dependents_1']\n",
    "df_MultipleLines=pd.get_dummies(df['MultipleLines'],prefix=\"MultipleLines\")\n",
    "df_MultipleLines\n",
    "df['MultipleLines']=df_MultipleLines['MultipleLines_1']\n",
    "df_OnlineSecurity=pd.get_dummies(df['OnlineSecurity'],prefix=\"OnlineSecurity\")\n",
    "df_OnlineSecurity\n",
    "df['OnlineSecurity']=df_OnlineSecurity['OnlineSecurity_1']\n",
    "df_OnlineBackup=pd.get_dummies(df['OnlineBackup'],prefix=\"OnlineBackup\")\n",
    "df_OnlineBackup\n",
    "df['OnlineBackup']=df_OnlineBackup['OnlineBackup_1']\n",
    "df_DeviceProtection=pd.get_dummies(df['DeviceProtection'],prefix=\"DeviceProtection\")\n",
    "df_DeviceProtection\n",
    "df['DeviceProtection']=df_DeviceProtection['DeviceProtection_1']\n",
    "df_TechSupport=pd.get_dummies(df['TechSupport'],prefix=\"TechSupport\")\n",
    "df_TechSupport\n",
    "df['TechSupport']=df_TechSupport['TechSupport_1']\n",
    "df_StreamingTV=pd.get_dummies(df['StreamingTV'],prefix=\"StreamingTV\")\n",
    "df_StreamingTV\n",
    "df['StreamingTV']=df_StreamingTV['StreamingTV_1']\n",
    "df_StreamingMovies=pd.get_dummies(df['StreamingMovies'],prefix=\"StreamingMovies\")\n",
    "df_StreamingMovies\n",
    "df['StreamingMovies']=df_StreamingMovies['StreamingMovies_1']\n",
    "df_PaperlessBilling=pd.get_dummies(df['PaperlessBilling'],prefix=\"PaperlessBilling\")\n",
    "df['PaperlessBilling']=df_PaperlessBilling['PaperlessBilling_1']\n",
    "df_Churn=pd.get_dummies(df['Churn'],prefix=\"Churn\")\n",
    "df['Churn']=df_Churn['Churn_1']\n"
   ]
  },
  {
   "cell_type": "code",
   "execution_count": 22,
   "id": "e1af8fe2",
   "metadata": {},
   "outputs": [],
   "source": [
    "df['DSL']=df['DSL'].replace('DSL','1',regex=True)\n",
    "df_DSL=pd.get_dummies(df['DSL'],prefix=\"DSL\")\n",
    "df['DSL']=df_DSL['DSL_1']"
   ]
  },
  {
   "cell_type": "code",
   "execution_count": 23,
   "id": "10bd616e",
   "metadata": {},
   "outputs": [],
   "source": [
    "Columns=df.columns"
   ]
  },
  {
   "cell_type": "code",
   "execution_count": 24,
   "id": "056b0588",
   "metadata": {},
   "outputs": [
    {
     "name": "stdout",
     "output_type": "stream",
     "text": [
      "gender [1 0]\n",
      "SeniorCitizen [0 1]\n",
      "Partner [0 1]\n",
      "Dependents [0 1]\n",
      "tenure [34  2  8 22 28 62 13 58 49 25 69 71 10 21 30 47 72 17 27  1  5 46 11 70\n",
      " 63 52 43 15 60 18 66  9  3 31 64 56  7 42 35 65 12 38 68 55 37 33 67 23\n",
      " 61 14 16 20 53  4 40  6 59 44 19 54 50 41 51 32 57 45 24 29 48 36 39 26]\n",
      "MultipleLines [0 1]\n",
      "OnlineSecurity [1 0]\n",
      "OnlineBackup [0 1]\n",
      "DeviceProtection [1 0]\n",
      "TechSupport [0 1]\n",
      "StreamingTV [0 1]\n",
      "StreamingMovies [0 1]\n",
      "PaperlessBilling [0 1]\n",
      "MonthlyCharges [ 56.95  53.85  70.7  ... 108.35  44.2   78.7 ]\n",
      "TotalCharges [1889.5   108.15  151.65 ... 7362.9   306.6  6844.5 ]\n",
      "numAdminTickets [0 1 5 3 4 2]\n",
      "numTechTickets [0 2 4 3 1 6 5 7 8]\n",
      "Churn [0 1]\n",
      "DSL [1 0]\n",
      "Contract_Month-to-month [0 1]\n",
      "Bank [0 1]\n",
      "Credit [0 1]\n",
      "Electronic_check [0 1]\n"
     ]
    }
   ],
   "source": [
    "for i in Columns:\n",
    "    print(i,df[i].unique())"
   ]
  },
  {
   "cell_type": "code",
   "execution_count": 14,
   "id": "f8e37b42",
   "metadata": {},
   "outputs": [],
   "source": [
    "df.drop(columns=['InternetService'],inplace=True)"
   ]
  },
  {
   "cell_type": "code",
   "execution_count": 58,
   "id": "e1a5d31d",
   "metadata": {},
   "outputs": [],
   "source": [
    "Columns=df.columns"
   ]
  },
  {
   "cell_type": "code",
   "execution_count": 59,
   "id": "22c2071e",
   "metadata": {},
   "outputs": [
    {
     "name": "stdout",
     "output_type": "stream",
     "text": [
      "gender ['1' '0']\n",
      "SeniorCitizen [0 1]\n",
      "Partner ['0' '1']\n",
      "Dependents ['0' '1']\n",
      "tenure [34  2  8 22 28 62 13 58 49 25 69 71 10 21 30 47 72 17 27  1  5 46 11 70\n",
      " 63 52 43 15 60 18 66  9  3 31 64 56  7 42 35 65 12 38 68 55 37 33 67 23\n",
      " 61 14 16 20 53  4 40  6 59 44 19 54 50 41 51 32 57 45 24 29 48 36 39 26]\n",
      "MultipleLines ['0' '1']\n",
      "OnlineSecurity ['1' '0']\n",
      "OnlineBackup ['0' '1']\n",
      "DeviceProtection ['1' '0']\n",
      "TechSupport ['0' '1']\n",
      "StreamingTV ['0' '1']\n",
      "StreamingMovies ['0' '1']\n",
      "PaperlessBilling ['0' '1']\n",
      "MonthlyCharges [ 56.95  53.85  70.7  ... 108.35  44.2   78.7 ]\n",
      "TotalCharges [1889.5   108.15  151.65 ... 7362.9   306.6  6844.5 ]\n",
      "numAdminTickets [0 1 5 3 4 2]\n",
      "numTechTickets [0 2 4 3 1 6 5 7 8]\n",
      "Churn ['0' '1']\n",
      "DSL ['DSL' '0']\n",
      "Contract_Month-to-month [0 1]\n",
      "Credit [0 1]\n",
      "Bank [0 1]\n",
      "Electronic [0 1]\n"
     ]
    }
   ],
   "source": [
    "for i in Columns:\n",
    "    print(i,df[i].unique())"
   ]
  },
  {
   "cell_type": "code",
   "execution_count": 60,
   "id": "d1c36c21",
   "metadata": {},
   "outputs": [
    {
     "data": {
      "text/html": [
       "<div>\n",
       "<style scoped>\n",
       "    .dataframe tbody tr th:only-of-type {\n",
       "        vertical-align: middle;\n",
       "    }\n",
       "\n",
       "    .dataframe tbody tr th {\n",
       "        vertical-align: top;\n",
       "    }\n",
       "\n",
       "    .dataframe thead th {\n",
       "        text-align: right;\n",
       "    }\n",
       "</style>\n",
       "<table border=\"1\" class=\"dataframe\">\n",
       "  <thead>\n",
       "    <tr style=\"text-align: right;\">\n",
       "      <th></th>\n",
       "      <th>gender</th>\n",
       "      <th>SeniorCitizen</th>\n",
       "      <th>Partner</th>\n",
       "      <th>Dependents</th>\n",
       "      <th>tenure</th>\n",
       "      <th>MultipleLines</th>\n",
       "      <th>OnlineSecurity</th>\n",
       "      <th>OnlineBackup</th>\n",
       "      <th>DeviceProtection</th>\n",
       "      <th>TechSupport</th>\n",
       "      <th>...</th>\n",
       "      <th>MonthlyCharges</th>\n",
       "      <th>TotalCharges</th>\n",
       "      <th>numAdminTickets</th>\n",
       "      <th>numTechTickets</th>\n",
       "      <th>Churn</th>\n",
       "      <th>DSL</th>\n",
       "      <th>Contract_Month-to-month</th>\n",
       "      <th>Credit</th>\n",
       "      <th>Bank</th>\n",
       "      <th>Electronic</th>\n",
       "    </tr>\n",
       "  </thead>\n",
       "  <tbody>\n",
       "    <tr>\n",
       "      <th>0</th>\n",
       "      <td>1</td>\n",
       "      <td>0</td>\n",
       "      <td>0</td>\n",
       "      <td>0</td>\n",
       "      <td>34</td>\n",
       "      <td>0</td>\n",
       "      <td>1</td>\n",
       "      <td>0</td>\n",
       "      <td>1</td>\n",
       "      <td>0</td>\n",
       "      <td>...</td>\n",
       "      <td>56.95</td>\n",
       "      <td>1889.50</td>\n",
       "      <td>0</td>\n",
       "      <td>0</td>\n",
       "      <td>0</td>\n",
       "      <td>DSL</td>\n",
       "      <td>0</td>\n",
       "      <td>0</td>\n",
       "      <td>0</td>\n",
       "      <td>0</td>\n",
       "    </tr>\n",
       "    <tr>\n",
       "      <th>1</th>\n",
       "      <td>1</td>\n",
       "      <td>0</td>\n",
       "      <td>0</td>\n",
       "      <td>0</td>\n",
       "      <td>2</td>\n",
       "      <td>0</td>\n",
       "      <td>1</td>\n",
       "      <td>1</td>\n",
       "      <td>0</td>\n",
       "      <td>0</td>\n",
       "      <td>...</td>\n",
       "      <td>53.85</td>\n",
       "      <td>108.15</td>\n",
       "      <td>0</td>\n",
       "      <td>0</td>\n",
       "      <td>1</td>\n",
       "      <td>DSL</td>\n",
       "      <td>1</td>\n",
       "      <td>0</td>\n",
       "      <td>0</td>\n",
       "      <td>0</td>\n",
       "    </tr>\n",
       "    <tr>\n",
       "      <th>2</th>\n",
       "      <td>0</td>\n",
       "      <td>0</td>\n",
       "      <td>0</td>\n",
       "      <td>0</td>\n",
       "      <td>2</td>\n",
       "      <td>0</td>\n",
       "      <td>0</td>\n",
       "      <td>0</td>\n",
       "      <td>0</td>\n",
       "      <td>0</td>\n",
       "      <td>...</td>\n",
       "      <td>70.70</td>\n",
       "      <td>151.65</td>\n",
       "      <td>0</td>\n",
       "      <td>0</td>\n",
       "      <td>1</td>\n",
       "      <td>0</td>\n",
       "      <td>1</td>\n",
       "      <td>0</td>\n",
       "      <td>0</td>\n",
       "      <td>1</td>\n",
       "    </tr>\n",
       "    <tr>\n",
       "      <th>3</th>\n",
       "      <td>0</td>\n",
       "      <td>0</td>\n",
       "      <td>0</td>\n",
       "      <td>0</td>\n",
       "      <td>8</td>\n",
       "      <td>1</td>\n",
       "      <td>0</td>\n",
       "      <td>0</td>\n",
       "      <td>1</td>\n",
       "      <td>0</td>\n",
       "      <td>...</td>\n",
       "      <td>99.65</td>\n",
       "      <td>820.50</td>\n",
       "      <td>0</td>\n",
       "      <td>0</td>\n",
       "      <td>1</td>\n",
       "      <td>0</td>\n",
       "      <td>1</td>\n",
       "      <td>0</td>\n",
       "      <td>0</td>\n",
       "      <td>1</td>\n",
       "    </tr>\n",
       "    <tr>\n",
       "      <th>4</th>\n",
       "      <td>1</td>\n",
       "      <td>0</td>\n",
       "      <td>0</td>\n",
       "      <td>1</td>\n",
       "      <td>22</td>\n",
       "      <td>1</td>\n",
       "      <td>0</td>\n",
       "      <td>1</td>\n",
       "      <td>0</td>\n",
       "      <td>0</td>\n",
       "      <td>...</td>\n",
       "      <td>89.10</td>\n",
       "      <td>1949.40</td>\n",
       "      <td>0</td>\n",
       "      <td>0</td>\n",
       "      <td>0</td>\n",
       "      <td>0</td>\n",
       "      <td>1</td>\n",
       "      <td>1</td>\n",
       "      <td>0</td>\n",
       "      <td>0</td>\n",
       "    </tr>\n",
       "  </tbody>\n",
       "</table>\n",
       "<p>5 rows × 23 columns</p>\n",
       "</div>"
      ],
      "text/plain": [
       "  gender  SeniorCitizen Partner Dependents  tenure MultipleLines  \\\n",
       "0      1              0       0          0      34             0   \n",
       "1      1              0       0          0       2             0   \n",
       "2      0              0       0          0       2             0   \n",
       "3      0              0       0          0       8             1   \n",
       "4      1              0       0          1      22             1   \n",
       "\n",
       "  OnlineSecurity OnlineBackup DeviceProtection TechSupport  ...  \\\n",
       "0              1            0                1           0  ...   \n",
       "1              1            1                0           0  ...   \n",
       "2              0            0                0           0  ...   \n",
       "3              0            0                1           0  ...   \n",
       "4              0            1                0           0  ...   \n",
       "\n",
       "  MonthlyCharges TotalCharges numAdminTickets  numTechTickets  Churn  DSL  \\\n",
       "0          56.95      1889.50               0               0      0  DSL   \n",
       "1          53.85       108.15               0               0      1  DSL   \n",
       "2          70.70       151.65               0               0      1    0   \n",
       "3          99.65       820.50               0               0      1    0   \n",
       "4          89.10      1949.40               0               0      0    0   \n",
       "\n",
       "   Contract_Month-to-month Credit Bank  Electronic  \n",
       "0                        0      0    0           0  \n",
       "1                        1      0    0           0  \n",
       "2                        1      0    0           1  \n",
       "3                        1      0    0           1  \n",
       "4                        1      1    0           0  \n",
       "\n",
       "[5 rows x 23 columns]"
      ]
     },
     "execution_count": 60,
     "metadata": {},
     "output_type": "execute_result"
    }
   ],
   "source": [
    "df.head()"
   ]
  },
  {
   "cell_type": "code",
   "execution_count": 61,
   "id": "d4a53013",
   "metadata": {},
   "outputs": [
    {
     "data": {
      "text/plain": [
       "Index(['gender', 'SeniorCitizen', 'Partner', 'Dependents', 'tenure',\n",
       "       'MultipleLines', 'OnlineSecurity', 'OnlineBackup', 'DeviceProtection',\n",
       "       'TechSupport', 'StreamingTV', 'StreamingMovies', 'PaperlessBilling',\n",
       "       'MonthlyCharges', 'TotalCharges', 'numAdminTickets', 'numTechTickets',\n",
       "       'Churn', 'DSL', 'Contract_Month-to-month', 'Credit', 'Bank',\n",
       "       'Electronic'],\n",
       "      dtype='object')"
      ]
     },
     "execution_count": 61,
     "metadata": {},
     "output_type": "execute_result"
    }
   ],
   "source": [
    "df.columns"
   ]
  },
  {
   "cell_type": "markdown",
   "id": "b3986b4a",
   "metadata": {},
   "source": [
    "## Model Building"
   ]
  },
  {
   "cell_type": "code",
   "execution_count": 100,
   "id": "b27a1b94",
   "metadata": {},
   "outputs": [
    {
     "data": {
      "text/html": [
       "<div>\n",
       "<style scoped>\n",
       "    .dataframe tbody tr th:only-of-type {\n",
       "        vertical-align: middle;\n",
       "    }\n",
       "\n",
       "    .dataframe tbody tr th {\n",
       "        vertical-align: top;\n",
       "    }\n",
       "\n",
       "    .dataframe thead th {\n",
       "        text-align: right;\n",
       "    }\n",
       "</style>\n",
       "<table border=\"1\" class=\"dataframe\">\n",
       "  <thead>\n",
       "    <tr style=\"text-align: right;\">\n",
       "      <th></th>\n",
       "      <th>gender</th>\n",
       "      <th>SeniorCitizen</th>\n",
       "      <th>Partner</th>\n",
       "      <th>Dependents</th>\n",
       "      <th>tenure</th>\n",
       "      <th>MultipleLines</th>\n",
       "      <th>OnlineSecurity</th>\n",
       "      <th>OnlineBackup</th>\n",
       "      <th>DeviceProtection</th>\n",
       "      <th>TechSupport</th>\n",
       "      <th>StreamingTV</th>\n",
       "      <th>StreamingMovies</th>\n",
       "      <th>Contract</th>\n",
       "      <th>PaperlessBilling</th>\n",
       "      <th>MonthlyCharges</th>\n",
       "      <th>TotalCharges</th>\n",
       "      <th>numAdminTickets</th>\n",
       "      <th>numTechTickets</th>\n",
       "      <th>Churn</th>\n",
       "      <th>DSL</th>\n",
       "      <th>Mail</th>\n",
       "      <th>Bank</th>\n",
       "      <th>Electronic</th>\n",
       "    </tr>\n",
       "  </thead>\n",
       "  <tbody>\n",
       "    <tr>\n",
       "      <th>0</th>\n",
       "      <td>1</td>\n",
       "      <td>0</td>\n",
       "      <td>0</td>\n",
       "      <td>0</td>\n",
       "      <td>34</td>\n",
       "      <td>0</td>\n",
       "      <td>1</td>\n",
       "      <td>0</td>\n",
       "      <td>1</td>\n",
       "      <td>0</td>\n",
       "      <td>0</td>\n",
       "      <td>0</td>\n",
       "      <td>0</td>\n",
       "      <td>0</td>\n",
       "      <td>56.95</td>\n",
       "      <td>1889.50</td>\n",
       "      <td>0</td>\n",
       "      <td>0</td>\n",
       "      <td>0</td>\n",
       "      <td>1</td>\n",
       "      <td>1</td>\n",
       "      <td>0</td>\n",
       "      <td>0</td>\n",
       "    </tr>\n",
       "    <tr>\n",
       "      <th>1</th>\n",
       "      <td>1</td>\n",
       "      <td>0</td>\n",
       "      <td>0</td>\n",
       "      <td>0</td>\n",
       "      <td>2</td>\n",
       "      <td>0</td>\n",
       "      <td>1</td>\n",
       "      <td>1</td>\n",
       "      <td>0</td>\n",
       "      <td>0</td>\n",
       "      <td>0</td>\n",
       "      <td>0</td>\n",
       "      <td>1</td>\n",
       "      <td>1</td>\n",
       "      <td>53.85</td>\n",
       "      <td>108.15</td>\n",
       "      <td>0</td>\n",
       "      <td>0</td>\n",
       "      <td>1</td>\n",
       "      <td>1</td>\n",
       "      <td>1</td>\n",
       "      <td>0</td>\n",
       "      <td>0</td>\n",
       "    </tr>\n",
       "    <tr>\n",
       "      <th>2</th>\n",
       "      <td>0</td>\n",
       "      <td>0</td>\n",
       "      <td>0</td>\n",
       "      <td>0</td>\n",
       "      <td>2</td>\n",
       "      <td>0</td>\n",
       "      <td>0</td>\n",
       "      <td>0</td>\n",
       "      <td>0</td>\n",
       "      <td>0</td>\n",
       "      <td>0</td>\n",
       "      <td>0</td>\n",
       "      <td>1</td>\n",
       "      <td>1</td>\n",
       "      <td>70.70</td>\n",
       "      <td>151.65</td>\n",
       "      <td>0</td>\n",
       "      <td>0</td>\n",
       "      <td>1</td>\n",
       "      <td>0</td>\n",
       "      <td>0</td>\n",
       "      <td>0</td>\n",
       "      <td>1</td>\n",
       "    </tr>\n",
       "    <tr>\n",
       "      <th>3</th>\n",
       "      <td>0</td>\n",
       "      <td>0</td>\n",
       "      <td>0</td>\n",
       "      <td>0</td>\n",
       "      <td>8</td>\n",
       "      <td>1</td>\n",
       "      <td>0</td>\n",
       "      <td>0</td>\n",
       "      <td>1</td>\n",
       "      <td>0</td>\n",
       "      <td>1</td>\n",
       "      <td>1</td>\n",
       "      <td>1</td>\n",
       "      <td>1</td>\n",
       "      <td>99.65</td>\n",
       "      <td>820.50</td>\n",
       "      <td>0</td>\n",
       "      <td>0</td>\n",
       "      <td>1</td>\n",
       "      <td>0</td>\n",
       "      <td>0</td>\n",
       "      <td>0</td>\n",
       "      <td>1</td>\n",
       "    </tr>\n",
       "    <tr>\n",
       "      <th>4</th>\n",
       "      <td>1</td>\n",
       "      <td>0</td>\n",
       "      <td>0</td>\n",
       "      <td>1</td>\n",
       "      <td>22</td>\n",
       "      <td>1</td>\n",
       "      <td>0</td>\n",
       "      <td>1</td>\n",
       "      <td>0</td>\n",
       "      <td>0</td>\n",
       "      <td>1</td>\n",
       "      <td>0</td>\n",
       "      <td>1</td>\n",
       "      <td>1</td>\n",
       "      <td>89.10</td>\n",
       "      <td>1949.40</td>\n",
       "      <td>0</td>\n",
       "      <td>0</td>\n",
       "      <td>0</td>\n",
       "      <td>0</td>\n",
       "      <td>0</td>\n",
       "      <td>0</td>\n",
       "      <td>0</td>\n",
       "    </tr>\n",
       "    <tr>\n",
       "      <th>...</th>\n",
       "      <td>...</td>\n",
       "      <td>...</td>\n",
       "      <td>...</td>\n",
       "      <td>...</td>\n",
       "      <td>...</td>\n",
       "      <td>...</td>\n",
       "      <td>...</td>\n",
       "      <td>...</td>\n",
       "      <td>...</td>\n",
       "      <td>...</td>\n",
       "      <td>...</td>\n",
       "      <td>...</td>\n",
       "      <td>...</td>\n",
       "      <td>...</td>\n",
       "      <td>...</td>\n",
       "      <td>...</td>\n",
       "      <td>...</td>\n",
       "      <td>...</td>\n",
       "      <td>...</td>\n",
       "      <td>...</td>\n",
       "      <td>...</td>\n",
       "      <td>...</td>\n",
       "      <td>...</td>\n",
       "    </tr>\n",
       "    <tr>\n",
       "      <th>4830</th>\n",
       "      <td>1</td>\n",
       "      <td>0</td>\n",
       "      <td>0</td>\n",
       "      <td>0</td>\n",
       "      <td>19</td>\n",
       "      <td>0</td>\n",
       "      <td>0</td>\n",
       "      <td>0</td>\n",
       "      <td>0</td>\n",
       "      <td>0</td>\n",
       "      <td>1</td>\n",
       "      <td>0</td>\n",
       "      <td>1</td>\n",
       "      <td>1</td>\n",
       "      <td>78.70</td>\n",
       "      <td>1495.10</td>\n",
       "      <td>0</td>\n",
       "      <td>0</td>\n",
       "      <td>0</td>\n",
       "      <td>0</td>\n",
       "      <td>0</td>\n",
       "      <td>1</td>\n",
       "      <td>0</td>\n",
       "    </tr>\n",
       "    <tr>\n",
       "      <th>4831</th>\n",
       "      <td>1</td>\n",
       "      <td>0</td>\n",
       "      <td>1</td>\n",
       "      <td>1</td>\n",
       "      <td>24</td>\n",
       "      <td>1</td>\n",
       "      <td>1</td>\n",
       "      <td>0</td>\n",
       "      <td>1</td>\n",
       "      <td>1</td>\n",
       "      <td>1</td>\n",
       "      <td>1</td>\n",
       "      <td>0</td>\n",
       "      <td>1</td>\n",
       "      <td>84.80</td>\n",
       "      <td>1990.50</td>\n",
       "      <td>0</td>\n",
       "      <td>0</td>\n",
       "      <td>0</td>\n",
       "      <td>1</td>\n",
       "      <td>1</td>\n",
       "      <td>0</td>\n",
       "      <td>0</td>\n",
       "    </tr>\n",
       "    <tr>\n",
       "      <th>4832</th>\n",
       "      <td>0</td>\n",
       "      <td>0</td>\n",
       "      <td>1</td>\n",
       "      <td>1</td>\n",
       "      <td>72</td>\n",
       "      <td>1</td>\n",
       "      <td>0</td>\n",
       "      <td>1</td>\n",
       "      <td>1</td>\n",
       "      <td>0</td>\n",
       "      <td>1</td>\n",
       "      <td>1</td>\n",
       "      <td>0</td>\n",
       "      <td>1</td>\n",
       "      <td>103.20</td>\n",
       "      <td>7362.90</td>\n",
       "      <td>0</td>\n",
       "      <td>5</td>\n",
       "      <td>0</td>\n",
       "      <td>0</td>\n",
       "      <td>0</td>\n",
       "      <td>0</td>\n",
       "      <td>0</td>\n",
       "    </tr>\n",
       "    <tr>\n",
       "      <th>4833</th>\n",
       "      <td>1</td>\n",
       "      <td>1</td>\n",
       "      <td>1</td>\n",
       "      <td>0</td>\n",
       "      <td>4</td>\n",
       "      <td>1</td>\n",
       "      <td>0</td>\n",
       "      <td>0</td>\n",
       "      <td>0</td>\n",
       "      <td>0</td>\n",
       "      <td>0</td>\n",
       "      <td>0</td>\n",
       "      <td>1</td>\n",
       "      <td>1</td>\n",
       "      <td>74.40</td>\n",
       "      <td>306.60</td>\n",
       "      <td>0</td>\n",
       "      <td>0</td>\n",
       "      <td>1</td>\n",
       "      <td>0</td>\n",
       "      <td>1</td>\n",
       "      <td>0</td>\n",
       "      <td>0</td>\n",
       "    </tr>\n",
       "    <tr>\n",
       "      <th>4834</th>\n",
       "      <td>1</td>\n",
       "      <td>0</td>\n",
       "      <td>0</td>\n",
       "      <td>0</td>\n",
       "      <td>66</td>\n",
       "      <td>0</td>\n",
       "      <td>1</td>\n",
       "      <td>0</td>\n",
       "      <td>1</td>\n",
       "      <td>1</td>\n",
       "      <td>1</td>\n",
       "      <td>1</td>\n",
       "      <td>0</td>\n",
       "      <td>1</td>\n",
       "      <td>105.65</td>\n",
       "      <td>6844.50</td>\n",
       "      <td>2</td>\n",
       "      <td>0</td>\n",
       "      <td>0</td>\n",
       "      <td>0</td>\n",
       "      <td>0</td>\n",
       "      <td>1</td>\n",
       "      <td>0</td>\n",
       "    </tr>\n",
       "  </tbody>\n",
       "</table>\n",
       "<p>4835 rows × 23 columns</p>\n",
       "</div>"
      ],
      "text/plain": [
       "      gender  SeniorCitizen  Partner  Dependents  tenure  MultipleLines  \\\n",
       "0          1              0        0           0      34              0   \n",
       "1          1              0        0           0       2              0   \n",
       "2          0              0        0           0       2              0   \n",
       "3          0              0        0           0       8              1   \n",
       "4          1              0        0           1      22              1   \n",
       "...      ...            ...      ...         ...     ...            ...   \n",
       "4830       1              0        0           0      19              0   \n",
       "4831       1              0        1           1      24              1   \n",
       "4832       0              0        1           1      72              1   \n",
       "4833       1              1        1           0       4              1   \n",
       "4834       1              0        0           0      66              0   \n",
       "\n",
       "      OnlineSecurity  OnlineBackup  DeviceProtection  TechSupport  \\\n",
       "0                  1             0                 1            0   \n",
       "1                  1             1                 0            0   \n",
       "2                  0             0                 0            0   \n",
       "3                  0             0                 1            0   \n",
       "4                  0             1                 0            0   \n",
       "...              ...           ...               ...          ...   \n",
       "4830               0             0                 0            0   \n",
       "4831               1             0                 1            1   \n",
       "4832               0             1                 1            0   \n",
       "4833               0             0                 0            0   \n",
       "4834               1             0                 1            1   \n",
       "\n",
       "      StreamingTV  StreamingMovies  Contract  PaperlessBilling  \\\n",
       "0               0                0         0                 0   \n",
       "1               0                0         1                 1   \n",
       "2               0                0         1                 1   \n",
       "3               1                1         1                 1   \n",
       "4               1                0         1                 1   \n",
       "...           ...              ...       ...               ...   \n",
       "4830            1                0         1                 1   \n",
       "4831            1                1         0                 1   \n",
       "4832            1                1         0                 1   \n",
       "4833            0                0         1                 1   \n",
       "4834            1                1         0                 1   \n",
       "\n",
       "      MonthlyCharges  TotalCharges  numAdminTickets  numTechTickets  Churn  \\\n",
       "0              56.95       1889.50                0               0      0   \n",
       "1              53.85        108.15                0               0      1   \n",
       "2              70.70        151.65                0               0      1   \n",
       "3              99.65        820.50                0               0      1   \n",
       "4              89.10       1949.40                0               0      0   \n",
       "...              ...           ...              ...             ...    ...   \n",
       "4830           78.70       1495.10                0               0      0   \n",
       "4831           84.80       1990.50                0               0      0   \n",
       "4832          103.20       7362.90                0               5      0   \n",
       "4833           74.40        306.60                0               0      1   \n",
       "4834          105.65       6844.50                2               0      0   \n",
       "\n",
       "      DSL  Mail  Bank  Electronic  \n",
       "0       1     1     0           0  \n",
       "1       1     1     0           0  \n",
       "2       0     0     0           1  \n",
       "3       0     0     0           1  \n",
       "4       0     0     0           0  \n",
       "...   ...   ...   ...         ...  \n",
       "4830    0     0     1           0  \n",
       "4831    1     1     0           0  \n",
       "4832    0     0     0           0  \n",
       "4833    0     1     0           0  \n",
       "4834    0     0     1           0  \n",
       "\n",
       "[4835 rows x 23 columns]"
      ]
     },
     "execution_count": 100,
     "metadata": {},
     "output_type": "execute_result"
    }
   ],
   "source": [
    "df"
   ]
  },
  {
   "cell_type": "code",
   "execution_count": 103,
   "id": "f6b01ab6",
   "metadata": {},
   "outputs": [],
   "source": [
    "#df.drop(columns='TotalCharges',inplace=True)"
   ]
  },
  {
   "cell_type": "code",
   "execution_count": 104,
   "id": "bac0fe6c",
   "metadata": {
    "scrolled": true
   },
   "outputs": [
    {
     "name": "stdout",
     "output_type": "stream",
     "text": [
      "<class 'pandas.core.frame.DataFrame'>\n",
      "RangeIndex: 4835 entries, 0 to 4834\n",
      "Data columns (total 22 columns):\n",
      " #   Column            Non-Null Count  Dtype  \n",
      "---  ------            --------------  -----  \n",
      " 0   gender            4835 non-null   uint8  \n",
      " 1   SeniorCitizen     4835 non-null   uint8  \n",
      " 2   Partner           4835 non-null   uint8  \n",
      " 3   Dependents        4835 non-null   uint8  \n",
      " 4   tenure            4835 non-null   int64  \n",
      " 5   MultipleLines     4835 non-null   uint8  \n",
      " 6   OnlineSecurity    4835 non-null   uint8  \n",
      " 7   OnlineBackup      4835 non-null   uint8  \n",
      " 8   DeviceProtection  4835 non-null   uint8  \n",
      " 9   TechSupport       4835 non-null   uint8  \n",
      " 10  StreamingTV       4835 non-null   uint8  \n",
      " 11  StreamingMovies   4835 non-null   uint8  \n",
      " 12  Contract          4835 non-null   uint8  \n",
      " 13  PaperlessBilling  4835 non-null   uint8  \n",
      " 14  MonthlyCharges    4835 non-null   float64\n",
      " 15  numAdminTickets   4835 non-null   int64  \n",
      " 16  numTechTickets    4835 non-null   int64  \n",
      " 17  Churn             4835 non-null   uint8  \n",
      " 18  DSL               4835 non-null   uint8  \n",
      " 19  Mail              4835 non-null   uint8  \n",
      " 20  Bank              4835 non-null   uint8  \n",
      " 21  Electronic        4835 non-null   uint8  \n",
      "dtypes: float64(1), int64(3), uint8(18)\n",
      "memory usage: 236.2 KB\n"
     ]
    }
   ],
   "source": [
    "df.info()"
   ]
  },
  {
   "cell_type": "code",
   "execution_count": 25,
   "id": "8bf5f8d3",
   "metadata": {},
   "outputs": [],
   "source": [
    "X=df.loc[:,df.columns!=\"Churn\"] \n",
    "y=df.loc[:,df.columns==\"Churn\"]"
   ]
  },
  {
   "cell_type": "code",
   "execution_count": 58,
   "id": "c0560ae4",
   "metadata": {},
   "outputs": [],
   "source": [
    "y = column_or_1d(y, warn=True)\n",
    "X = sm.add_constant(X)"
   ]
  },
  {
   "cell_type": "code",
   "execution_count": 59,
   "id": "1d338deb",
   "metadata": {},
   "outputs": [
    {
     "data": {
      "text/plain": [
       "const                      float64\n",
       "gender                       uint8\n",
       "SeniorCitizen                uint8\n",
       "Partner                      uint8\n",
       "Dependents                   uint8\n",
       "tenure                       int64\n",
       "MultipleLines                uint8\n",
       "OnlineSecurity               uint8\n",
       "OnlineBackup                 uint8\n",
       "DeviceProtection             uint8\n",
       "TechSupport                  uint8\n",
       "StreamingTV                  uint8\n",
       "StreamingMovies              uint8\n",
       "PaperlessBilling             uint8\n",
       "MonthlyCharges             float64\n",
       "TotalCharges               float64\n",
       "numAdminTickets              int64\n",
       "numTechTickets               int64\n",
       "DSL                          uint8\n",
       "Contract_Month-to-month      uint8\n",
       "Bank                         uint8\n",
       "Credit                       uint8\n",
       "Electronic_check             uint8\n",
       "dtype: object"
      ]
     },
     "execution_count": 59,
     "metadata": {},
     "output_type": "execute_result"
    }
   ],
   "source": [
    "X.dtypes"
   ]
  },
  {
   "cell_type": "code",
   "execution_count": 60,
   "id": "7dda7f0a",
   "metadata": {},
   "outputs": [],
   "source": [
    "X_train,X_test,y_train,y_test=train_test_split(X,y,test_size=0.2,random_state=100)"
   ]
  },
  {
   "cell_type": "code",
   "execution_count": 61,
   "id": "d8b37beb",
   "metadata": {},
   "outputs": [
    {
     "name": "stdout",
     "output_type": "stream",
     "text": [
      "Optimization terminated successfully.\n",
      "         Current function value: inf\n",
      "         Iterations 8\n"
     ]
    },
    {
     "name": "stderr",
     "output_type": "stream",
     "text": [
      "C:\\Users\\Compu Tech\\anaconda3\\lib\\site-packages\\statsmodels\\discrete\\discrete_model.py:1819: RuntimeWarning: overflow encountered in exp\n",
      "  return 1/(1+np.exp(-X))\n",
      "C:\\Users\\Compu Tech\\anaconda3\\lib\\site-packages\\statsmodels\\discrete\\discrete_model.py:1872: RuntimeWarning: divide by zero encountered in log\n",
      "  return np.sum(np.log(self.cdf(q*np.dot(X,params))))\n"
     ]
    }
   ],
   "source": [
    "model=sm.Logit(y_train,X_train)\n",
    "res=model.fit()"
   ]
  },
  {
   "cell_type": "code",
   "execution_count": 62,
   "id": "16dd2d50",
   "metadata": {},
   "outputs": [],
   "source": [
    "coefficients = res.params\n",
    "odds_ratios = np.exp(coefficients)"
   ]
  },
  {
   "cell_type": "code",
   "execution_count": 63,
   "id": "02888a67",
   "metadata": {},
   "outputs": [
    {
     "name": "stdout",
     "output_type": "stream",
     "text": [
      "const                      11.760725\n",
      "gender                      0.848173\n",
      "SeniorCitizen               1.214828\n",
      "Partner                     0.791935\n",
      "Dependents                  1.044227\n",
      "tenure                      0.969316\n",
      "MultipleLines               1.784562\n",
      "OnlineSecurity              0.669230\n",
      "OnlineBackup                0.828604\n",
      "DeviceProtection            1.013057\n",
      "TechSupport                 0.950079\n",
      "StreamingTV                 1.320042\n",
      "StreamingMovies             1.489285\n",
      "PaperlessBilling            1.351692\n",
      "MonthlyCharges              0.964730\n",
      "TotalCharges                0.999325\n",
      "numAdminTickets             0.977260\n",
      "numTechTickets              4.638233\n",
      "DSL                         0.141511\n",
      "Contract_Month-to-month     2.676793\n",
      "Bank                        1.222366\n",
      "Credit                      1.062926\n",
      "Electronic_check            1.405319\n",
      "dtype: float64\n"
     ]
    }
   ],
   "source": [
    "print(odds_ratios)"
   ]
  },
  {
   "cell_type": "code",
   "execution_count": 64,
   "id": "f9ef76c5",
   "metadata": {},
   "outputs": [
    {
     "name": "stderr",
     "output_type": "stream",
     "text": [
      "C:\\Users\\Compu Tech\\anaconda3\\lib\\site-packages\\statsmodels\\discrete\\discrete_model.py:1819: RuntimeWarning: overflow encountered in exp\n",
      "  return 1/(1+np.exp(-X))\n",
      "C:\\Users\\Compu Tech\\anaconda3\\lib\\site-packages\\statsmodels\\discrete\\discrete_model.py:1872: RuntimeWarning: divide by zero encountered in log\n",
      "  return np.sum(np.log(self.cdf(q*np.dot(X,params))))\n",
      "C:\\Users\\Compu Tech\\anaconda3\\lib\\site-packages\\statsmodels\\base\\model.py:592: HessianInversionWarning: Inverting hessian failed, no bse or cov_params available\n",
      "  warnings.warn('Inverting hessian failed, no bse or cov_params '\n",
      "C:\\Users\\Compu Tech\\anaconda3\\lib\\site-packages\\statsmodels\\base\\model.py:592: HessianInversionWarning: Inverting hessian failed, no bse or cov_params available\n",
      "  warnings.warn('Inverting hessian failed, no bse or cov_params '\n"
     ]
    },
    {
     "data": {
      "text/html": [
       "<table class=\"simpletable\">\n",
       "<tr>\n",
       "        <td>Model:</td>              <td>Logit</td>      <td>Pseudo R-squared:</td>   <td>inf</td> \n",
       "</tr>\n",
       "<tr>\n",
       "  <td>Dependent Variable:</td>         <td>y</td>              <td>AIC:</td>          <td>inf</td> \n",
       "</tr>\n",
       "<tr>\n",
       "         <td>Date:</td>        <td>2023-08-25 23:46</td>       <td>BIC:</td>          <td>inf</td> \n",
       "</tr>\n",
       "<tr>\n",
       "   <td>No. Observations:</td>        <td>3865</td>        <td>Log-Likelihood:</td>   <td>-inf</td> \n",
       "</tr>\n",
       "<tr>\n",
       "       <td>Df Model:</td>             <td>22</td>            <td>LL-Null:</td>      <td>0.0000</td>\n",
       "</tr>\n",
       "<tr>\n",
       "     <td>Df Residuals:</td>          <td>3842</td>         <td>LLR p-value:</td>    <td>1.0000</td>\n",
       "</tr>\n",
       "<tr>\n",
       "      <td>Converged:</td>           <td>1.0000</td>           <td>Scale:</td>       <td>1.0000</td>\n",
       "</tr>\n",
       "<tr>\n",
       "    <td>No. Iterations:</td>        <td>8.0000</td>              <td></td>             <td></td>   \n",
       "</tr>\n",
       "</table>\n",
       "<table class=\"simpletable\">\n",
       "<tr>\n",
       "             <td></td>              <th>Coef.</th>  <th>Std.Err.</th>    <th>z</th>     <th>P>|z|</th> <th>[0.025</th>  <th>0.975]</th> \n",
       "</tr>\n",
       "<tr>\n",
       "  <th>const</th>                   <td>2.4648</td>   <td>3.3921</td>  <td>0.7266</td>  <td>0.4675</td> <td>-4.1836</td> <td>9.1131</td> \n",
       "</tr>\n",
       "<tr>\n",
       "  <th>gender</th>                  <td>-0.1647</td>  <td>0.0984</td>  <td>-1.6727</td> <td>0.0944</td> <td>-0.3576</td> <td>0.0283</td> \n",
       "</tr>\n",
       "<tr>\n",
       "  <th>SeniorCitizen</th>           <td>0.1946</td>   <td>0.1269</td>  <td>1.5331</td>  <td>0.1252</td> <td>-0.0542</td> <td>0.4434</td> \n",
       "</tr>\n",
       "<tr>\n",
       "  <th>Partner</th>                 <td>-0.2333</td>  <td>0.1197</td>  <td>-1.9482</td> <td>0.0514</td> <td>-0.4680</td> <td>0.0014</td> \n",
       "</tr>\n",
       "<tr>\n",
       "  <th>Dependents</th>              <td>0.0433</td>   <td>0.1410</td>  <td>0.3068</td>  <td>0.7590</td> <td>-0.2332</td> <td>0.3197</td> \n",
       "</tr>\n",
       "<tr>\n",
       "  <th>tenure</th>                  <td>-0.0312</td>  <td>0.0143</td>  <td>-2.1748</td> <td>0.0296</td> <td>-0.0593</td> <td>-0.0031</td>\n",
       "</tr>\n",
       "<tr>\n",
       "  <th>MultipleLines</th>           <td>0.5792</td>   <td>0.2648</td>  <td>2.1874</td>  <td>0.0287</td> <td>0.0602</td>  <td>1.0981</td> \n",
       "</tr>\n",
       "<tr>\n",
       "  <th>OnlineSecurity</th>          <td>-0.4016</td>  <td>0.2718</td>  <td>-1.4775</td> <td>0.1395</td> <td>-0.9344</td> <td>0.1311</td> \n",
       "</tr>\n",
       "<tr>\n",
       "  <th>OnlineBackup</th>            <td>-0.1880</td>  <td>0.2651</td>  <td>-0.7092</td> <td>0.4782</td> <td>-0.7076</td> <td>0.3316</td> \n",
       "</tr>\n",
       "<tr>\n",
       "  <th>DeviceProtection</th>        <td>0.0130</td>   <td>0.2675</td>  <td>0.0485</td>  <td>0.9613</td> <td>-0.5113</td> <td>0.5372</td> \n",
       "</tr>\n",
       "<tr>\n",
       "  <th>TechSupport</th>             <td>-0.0512</td>  <td>0.2749</td>  <td>-0.1863</td> <td>0.8522</td> <td>-0.5900</td> <td>0.4876</td> \n",
       "</tr>\n",
       "<tr>\n",
       "  <th>StreamingTV</th>             <td>0.2777</td>   <td>0.4930</td>  <td>0.5632</td>  <td>0.5733</td> <td>-0.6886</td> <td>1.2439</td> \n",
       "</tr>\n",
       "<tr>\n",
       "  <th>StreamingMovies</th>         <td>0.3983</td>   <td>0.4996</td>  <td>0.7973</td>  <td>0.4253</td> <td>-0.5808</td> <td>1.3774</td> \n",
       "</tr>\n",
       "<tr>\n",
       "  <th>PaperlessBilling</th>        <td>0.3014</td>   <td>0.1116</td>  <td>2.6993</td>  <td>0.0069</td> <td>0.0825</td>  <td>0.5202</td> \n",
       "</tr>\n",
       "<tr>\n",
       "  <th>MonthlyCharges</th>          <td>-0.0359</td>  <td>0.0483</td>  <td>-0.7436</td> <td>0.4571</td> <td>-0.1305</td> <td>0.0587</td> \n",
       "</tr>\n",
       "<tr>\n",
       "  <th>TotalCharges</th>            <td>-0.0007</td>  <td>0.0002</td>  <td>-3.9179</td> <td>0.0001</td> <td>-0.0010</td> <td>-0.0003</td>\n",
       "</tr>\n",
       "<tr>\n",
       "  <th>numAdminTickets</th>         <td>-0.0230</td>  <td>0.0385</td>  <td>-0.5978</td> <td>0.5500</td> <td>-0.0984</td> <td>0.0524</td> \n",
       "</tr>\n",
       "<tr>\n",
       "  <th>numTechTickets</th>          <td>1.5343</td>   <td>0.0688</td>  <td>22.2997</td> <td>0.0000</td> <td>1.3995</td>  <td>1.6692</td> \n",
       "</tr>\n",
       "<tr>\n",
       "  <th>DSL</th>                     <td>-1.9554</td>  <td>1.2107</td>  <td>-1.6150</td> <td>0.1063</td> <td>-4.3284</td> <td>0.4176</td> \n",
       "</tr>\n",
       "<tr>\n",
       "  <th>Contract_Month-to-month</th> <td>0.9846</td>   <td>0.2112</td>  <td>4.6615</td>  <td>0.0000</td> <td>0.5706</td>  <td>1.3986</td> \n",
       "</tr>\n",
       "<tr>\n",
       "  <th>Bank</th>                    <td>0.2008</td>   <td>0.1789</td>  <td>1.1222</td>  <td>0.2618</td> <td>-0.1499</td> <td>0.5515</td> \n",
       "</tr>\n",
       "<tr>\n",
       "  <th>Credit</th>                  <td>0.0610</td>   <td>0.1795</td>  <td>0.3399</td>  <td>0.7339</td> <td>-0.2908</td> <td>0.4129</td> \n",
       "</tr>\n",
       "<tr>\n",
       "  <th>Electronic_check</th>        <td>0.3403</td>   <td>0.1429</td>  <td>2.3808</td>  <td>0.0173</td> <td>0.0601</td>  <td>0.6204</td> \n",
       "</tr>\n",
       "</table>"
      ],
      "text/plain": [
       "<class 'statsmodels.iolib.summary2.Summary'>\n",
       "\"\"\"\n",
       "                            Results: Logit\n",
       "=======================================================================\n",
       "Model:                  Logit               Pseudo R-squared:    inf   \n",
       "Dependent Variable:     y                   AIC:                 inf   \n",
       "Date:                   2023-08-25 23:46    BIC:                 inf   \n",
       "No. Observations:       3865                Log-Likelihood:      -inf  \n",
       "Df Model:               22                  LL-Null:             0.0000\n",
       "Df Residuals:           3842                LLR p-value:         1.0000\n",
       "Converged:              1.0000              Scale:               1.0000\n",
       "No. Iterations:         8.0000                                         \n",
       "-----------------------------------------------------------------------\n",
       "                         Coef.  Std.Err.    z    P>|z|   [0.025  0.975]\n",
       "-----------------------------------------------------------------------\n",
       "const                    2.4648   3.3921  0.7266 0.4675 -4.1836  9.1131\n",
       "gender                  -0.1647   0.0984 -1.6727 0.0944 -0.3576  0.0283\n",
       "SeniorCitizen            0.1946   0.1269  1.5331 0.1252 -0.0542  0.4434\n",
       "Partner                 -0.2333   0.1197 -1.9482 0.0514 -0.4680  0.0014\n",
       "Dependents               0.0433   0.1410  0.3068 0.7590 -0.2332  0.3197\n",
       "tenure                  -0.0312   0.0143 -2.1748 0.0296 -0.0593 -0.0031\n",
       "MultipleLines            0.5792   0.2648  2.1874 0.0287  0.0602  1.0981\n",
       "OnlineSecurity          -0.4016   0.2718 -1.4775 0.1395 -0.9344  0.1311\n",
       "OnlineBackup            -0.1880   0.2651 -0.7092 0.4782 -0.7076  0.3316\n",
       "DeviceProtection         0.0130   0.2675  0.0485 0.9613 -0.5113  0.5372\n",
       "TechSupport             -0.0512   0.2749 -0.1863 0.8522 -0.5900  0.4876\n",
       "StreamingTV              0.2777   0.4930  0.5632 0.5733 -0.6886  1.2439\n",
       "StreamingMovies          0.3983   0.4996  0.7973 0.4253 -0.5808  1.3774\n",
       "PaperlessBilling         0.3014   0.1116  2.6993 0.0069  0.0825  0.5202\n",
       "MonthlyCharges          -0.0359   0.0483 -0.7436 0.4571 -0.1305  0.0587\n",
       "TotalCharges            -0.0007   0.0002 -3.9179 0.0001 -0.0010 -0.0003\n",
       "numAdminTickets         -0.0230   0.0385 -0.5978 0.5500 -0.0984  0.0524\n",
       "numTechTickets           1.5343   0.0688 22.2997 0.0000  1.3995  1.6692\n",
       "DSL                     -1.9554   1.2107 -1.6150 0.1063 -4.3284  0.4176\n",
       "Contract_Month-to-month  0.9846   0.2112  4.6615 0.0000  0.5706  1.3986\n",
       "Bank                     0.2008   0.1789  1.1222 0.2618 -0.1499  0.5515\n",
       "Credit                   0.0610   0.1795  0.3399 0.7339 -0.2908  0.4129\n",
       "Electronic_check         0.3403   0.1429  2.3808 0.0173  0.0601  0.6204\n",
       "=======================================================================\n",
       "\n",
       "\"\"\""
      ]
     },
     "execution_count": 64,
     "metadata": {},
     "output_type": "execute_result"
    }
   ],
   "source": [
    "res.summary2()"
   ]
  },
  {
   "cell_type": "code",
   "execution_count": 71,
   "id": "8d178929",
   "metadata": {},
   "outputs": [],
   "source": [
    "sig_columns=['gender','SeniorCitizen','tenure','MultipleLines','Electronic_check','Credit','Bank',\n",
    "               'Contract_Month-to-month','numTechTickets',\n",
    "              'TotalCharges','PaperlessBilling']\n",
    "X=df[sig_columns]\n"
   ]
  },
  {
   "cell_type": "code",
   "execution_count": 72,
   "id": "62af56a0",
   "metadata": {},
   "outputs": [
    {
     "name": "stdout",
     "output_type": "stream",
     "text": [
      "Optimization terminated successfully.\n",
      "         Current function value: inf\n",
      "         Iterations 8\n"
     ]
    },
    {
     "name": "stderr",
     "output_type": "stream",
     "text": [
      "C:\\Users\\Compu Tech\\anaconda3\\lib\\site-packages\\statsmodels\\discrete\\discrete_model.py:1819: RuntimeWarning: overflow encountered in exp\n",
      "  return 1/(1+np.exp(-X))\n",
      "C:\\Users\\Compu Tech\\anaconda3\\lib\\site-packages\\statsmodels\\discrete\\discrete_model.py:1872: RuntimeWarning: divide by zero encountered in log\n",
      "  return np.sum(np.log(self.cdf(q*np.dot(X,params))))\n"
     ]
    }
   ],
   "source": [
    "X_train,X_test,y_train,y_test=train_test_split(X,y,test_size=0.2,random_state=100)\n",
    "model=sm.Logit(y_train,X_train)\n",
    "res=model.fit()\n",
    "coefficients = res.params\n",
    "odds_ratios = np.exp(coefficients)"
   ]
  },
  {
   "cell_type": "code",
   "execution_count": 73,
   "id": "0d1b7ff7",
   "metadata": {},
   "outputs": [
    {
     "data": {
      "text/html": [
       "<table class=\"simpletable\">\n",
       "<tr>\n",
       "        <td>Model:</td>              <td>Logit</td>      <td>Pseudo R-squared:</td>   <td>inf</td> \n",
       "</tr>\n",
       "<tr>\n",
       "  <td>Dependent Variable:</td>         <td>y</td>              <td>AIC:</td>          <td>inf</td> \n",
       "</tr>\n",
       "<tr>\n",
       "         <td>Date:</td>        <td>2023-08-25 23:58</td>       <td>BIC:</td>          <td>inf</td> \n",
       "</tr>\n",
       "<tr>\n",
       "   <td>No. Observations:</td>        <td>3865</td>        <td>Log-Likelihood:</td>   <td>-inf</td> \n",
       "</tr>\n",
       "<tr>\n",
       "       <td>Df Model:</td>             <td>10</td>            <td>LL-Null:</td>      <td>0.0000</td>\n",
       "</tr>\n",
       "<tr>\n",
       "     <td>Df Residuals:</td>          <td>3854</td>         <td>LLR p-value:</td>    <td>1.0000</td>\n",
       "</tr>\n",
       "<tr>\n",
       "      <td>Converged:</td>           <td>1.0000</td>           <td>Scale:</td>       <td>1.0000</td>\n",
       "</tr>\n",
       "<tr>\n",
       "    <td>No. Iterations:</td>        <td>8.0000</td>              <td></td>             <td></td>   \n",
       "</tr>\n",
       "</table>\n",
       "<table class=\"simpletable\">\n",
       "<tr>\n",
       "             <td></td>              <th>Coef.</th>  <th>Std.Err.</th>    <th>z</th>     <th>P>|z|</th> <th>[0.025</th>  <th>0.975]</th> \n",
       "</tr>\n",
       "<tr>\n",
       "  <th>gender</th>                  <td>-0.2776</td>  <td>0.0927</td>  <td>-2.9946</td> <td>0.0027</td> <td>-0.4592</td> <td>-0.0959</td>\n",
       "</tr>\n",
       "<tr>\n",
       "  <th>SeniorCitizen</th>           <td>0.4058</td>   <td>0.1204</td>  <td>3.3711</td>  <td>0.0007</td> <td>0.1698</td>  <td>0.6417</td> \n",
       "</tr>\n",
       "<tr>\n",
       "  <th>tenure</th>                  <td>-0.0916</td>  <td>0.0116</td>  <td>-7.8693</td> <td>0.0000</td> <td>-0.1144</td> <td>-0.0688</td>\n",
       "</tr>\n",
       "<tr>\n",
       "  <th>MultipleLines</th>           <td>0.5116</td>   <td>0.1065</td>  <td>4.8041</td>  <td>0.0000</td> <td>0.3029</td>  <td>0.7203</td> \n",
       "</tr>\n",
       "<tr>\n",
       "  <th>Electronic_check</th>        <td>0.3582</td>   <td>0.1249</td>  <td>2.8688</td>  <td>0.0041</td> <td>0.1135</td>  <td>0.6029</td> \n",
       "</tr>\n",
       "<tr>\n",
       "  <th>Credit</th>                  <td>-0.1358</td>  <td>0.1615</td>  <td>-0.8409</td> <td>0.4004</td> <td>-0.4523</td> <td>0.1807</td> \n",
       "</tr>\n",
       "<tr>\n",
       "  <th>Bank</th>                    <td>0.0314</td>   <td>0.1603</td>  <td>0.1957</td>  <td>0.8448</td> <td>-0.2829</td> <td>0.3456</td> \n",
       "</tr>\n",
       "<tr>\n",
       "  <th>Contract_Month-to-month</th> <td>0.4543</td>   <td>0.1153</td>  <td>3.9397</td>  <td>0.0001</td> <td>0.2283</td>  <td>0.6804</td> \n",
       "</tr>\n",
       "<tr>\n",
       "  <th>numTechTickets</th>          <td>1.4114</td>   <td>0.0621</td>  <td>22.7295</td> <td>0.0000</td> <td>1.2897</td>  <td>1.5331</td> \n",
       "</tr>\n",
       "<tr>\n",
       "  <th>TotalCharges</th>            <td>-0.0001</td>  <td>0.0001</td>  <td>-0.9507</td> <td>0.3417</td> <td>-0.0004</td> <td>0.0001</td> \n",
       "</tr>\n",
       "<tr>\n",
       "  <th>PaperlessBilling</th>        <td>0.2970</td>   <td>0.1027</td>  <td>2.8927</td>  <td>0.0038</td> <td>0.0958</td>  <td>0.4983</td> \n",
       "</tr>\n",
       "</table>"
      ],
      "text/plain": [
       "<class 'statsmodels.iolib.summary2.Summary'>\n",
       "\"\"\"\n",
       "                            Results: Logit\n",
       "=======================================================================\n",
       "Model:                  Logit               Pseudo R-squared:    inf   \n",
       "Dependent Variable:     y                   AIC:                 inf   \n",
       "Date:                   2023-08-25 23:58    BIC:                 inf   \n",
       "No. Observations:       3865                Log-Likelihood:      -inf  \n",
       "Df Model:               10                  LL-Null:             0.0000\n",
       "Df Residuals:           3854                LLR p-value:         1.0000\n",
       "Converged:              1.0000              Scale:               1.0000\n",
       "No. Iterations:         8.0000                                         \n",
       "-----------------------------------------------------------------------\n",
       "                         Coef.  Std.Err.    z    P>|z|   [0.025  0.975]\n",
       "-----------------------------------------------------------------------\n",
       "gender                  -0.2776   0.0927 -2.9946 0.0027 -0.4592 -0.0959\n",
       "SeniorCitizen            0.4058   0.1204  3.3711 0.0007  0.1698  0.6417\n",
       "tenure                  -0.0916   0.0116 -7.8693 0.0000 -0.1144 -0.0688\n",
       "MultipleLines            0.5116   0.1065  4.8041 0.0000  0.3029  0.7203\n",
       "Electronic_check         0.3582   0.1249  2.8688 0.0041  0.1135  0.6029\n",
       "Credit                  -0.1358   0.1615 -0.8409 0.4004 -0.4523  0.1807\n",
       "Bank                     0.0314   0.1603  0.1957 0.8448 -0.2829  0.3456\n",
       "Contract_Month-to-month  0.4543   0.1153  3.9397 0.0001  0.2283  0.6804\n",
       "numTechTickets           1.4114   0.0621 22.7295 0.0000  1.2897  1.5331\n",
       "TotalCharges            -0.0001   0.0001 -0.9507 0.3417 -0.0004  0.0001\n",
       "PaperlessBilling         0.2970   0.1027  2.8927 0.0038  0.0958  0.4983\n",
       "=======================================================================\n",
       "\n",
       "\"\"\""
      ]
     },
     "execution_count": 73,
     "metadata": {},
     "output_type": "execute_result"
    }
   ],
   "source": [
    "res.summary2()"
   ]
  },
  {
   "cell_type": "code",
   "execution_count": 77,
   "id": "c0f51972",
   "metadata": {},
   "outputs": [
    {
     "data": {
      "text/plain": [
       "LogisticRegression(max_iter=500, random_state=100)"
      ]
     },
     "execution_count": 77,
     "metadata": {},
     "output_type": "execute_result"
    }
   ],
   "source": [
    "clf=LogisticRegression(random_state=100,max_iter=500)\n",
    "clf.fit(X_train,y_train)"
   ]
  },
  {
   "cell_type": "code",
   "execution_count": 78,
   "id": "8362d2aa",
   "metadata": {},
   "outputs": [],
   "source": [
    "y_pred=clf.predict(X_test)"
   ]
  },
  {
   "cell_type": "code",
   "execution_count": 79,
   "id": "9f8bd86f",
   "metadata": {},
   "outputs": [
    {
     "name": "stdout",
     "output_type": "stream",
     "text": [
      "Accuracy is \n"
     ]
    },
    {
     "data": {
      "text/plain": [
       "(None, 81.38572905894519)"
      ]
     },
     "execution_count": 79,
     "metadata": {},
     "output_type": "execute_result"
    }
   ],
   "source": [
    "print (\"Accuracy is \"), accuracy_score(y_test,y_pred)*100"
   ]
  },
  {
   "cell_type": "code",
   "execution_count": 81,
   "id": "78bbed94",
   "metadata": {},
   "outputs": [],
   "source": [
    "r_probs = [0 for _ in range(len(y_test))]\n",
    "D_probs = clf.predict_proba(X_test)\n",
    "D_probs = D_probs[:, 1]\n",
    "r_auc = roc_auc_score(y_test, r_probs)\n",
    "D_auc = roc_auc_score(y_test, D_probs)"
   ]
  },
  {
   "cell_type": "code",
   "execution_count": 88,
   "id": "82e2ed34",
   "metadata": {},
   "outputs": [
    {
     "name": "stdout",
     "output_type": "stream",
     "text": [
      "Random (chance) Prediction: AUC = 0.500\n",
      "Logistic Regression: AUC = 0.906\n"
     ]
    }
   ],
   "source": [
    "print('Random (chance) Prediction: AUC = %.3f' % (r_auc))\n",
    "print('Logistic Regression: AUC = %.3f' % (D_auc))"
   ]
  },
  {
   "cell_type": "code",
   "execution_count": 84,
   "id": "30328425",
   "metadata": {},
   "outputs": [],
   "source": [
    "r_fpr, r_tpr, _ = roc_curve(y_test, r_probs)\n",
    "D_fpr, D_tpr, _ = roc_curve(y_test, D_probs)"
   ]
  },
  {
   "cell_type": "code",
   "execution_count": 85,
   "id": "d29ce8c2",
   "metadata": {},
   "outputs": [
    {
     "data": {
      "image/png": "[encoded data removed]",
      "text/plain": [
       "<Figure size 640x480 with 1 Axes>"
      ]
     },
     "metadata": {},
     "output_type": "display_data"
    }
   ],
   "source": [
    "plt.plot(r_fpr, r_tpr, linestyle='--', label='Random prediction (AUC = %0.3f)' % r_auc)\n",
    "plt.plot(D_fpr, D_tpr, marker='.', label='Logistic Regrssion (AUC = %0.3f)' % D_auc)\n",
    "plt.title('ROC Plot')\n",
    "# Axis labels\n",
    "plt.xlabel('1-Specificity')\n",
    "plt.ylabel('Sensitivity')\n",
    "# Show legend\n",
    "plt.legend() # \n",
    "# Show plot\n",
    "plt.show()"
   ]
  },
  {
   "cell_type": "code",
   "execution_count": 89,
   "id": "f503a6f4",
   "metadata": {},
   "outputs": [
    {
     "data": {
      "text/plain": [
       "0.7694915254237288"
      ]
     },
     "execution_count": 89,
     "metadata": {},
     "output_type": "execute_result"
    }
   ],
   "source": [
    "recall_score(y_test,y_pred)"
   ]
  },
  {
   "cell_type": "code",
   "execution_count": 90,
   "id": "b5308e16",
   "metadata": {},
   "outputs": [
    {
     "data": {
      "text/plain": [
       "0.6696165191740413"
      ]
     },
     "execution_count": 90,
     "metadata": {},
     "output_type": "execute_result"
    }
   ],
   "source": [
    "precision_score(y_test,y_pred)"
   ]
  },
  {
   "cell_type": "code",
   "execution_count": 91,
   "id": "d044daa5",
   "metadata": {},
   "outputs": [],
   "source": [
    "cm=metrics.confusion_matrix(y_test, y_pred)"
   ]
  },
  {
   "cell_type": "code",
   "execution_count": 92,
   "id": "9ec82454",
   "metadata": {},
   "outputs": [],
   "source": [
    "specificity=cm[0,0]/(cm[0,0]+cm[0,1])"
   ]
  },
  {
   "cell_type": "code",
   "execution_count": 93,
   "id": "1b2d5668",
   "metadata": {},
   "outputs": [
    {
     "name": "stdout",
     "output_type": "stream",
     "text": [
      "0.8333333333333334\n"
     ]
    }
   ],
   "source": [
    "print(specificity)"
   ]
  }
 ],
 "metadata": {
  "kernelspec": {
   "display_name": "Python 3 (ipykernel)",
   "language": "python",
   "name": "python3"
  },
  "language_info": {
   "codemirror_mode": {
    "name": "ipython",
    "version": 3
   },
   "file_extension": ".py",
   "mimetype": "text/x-python",
   "name": "python",
   "nbconvert_exporter": "python",
   "pygments_lexer": "ipython3",
   "version": "3.9.13"
  }
 },
 "nbformat": 4,
 "nbformat_minor": 5
}
